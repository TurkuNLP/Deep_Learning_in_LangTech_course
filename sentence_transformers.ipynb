{
  "nbformat": 4,
  "nbformat_minor": 0,
  "metadata": {
    "colab": {
      "name": "sentence-transformers.ipynb",
      "provenance": [],
      "include_colab_link": true
    },
    "kernelspec": {
      "name": "python3",
      "display_name": "Python 3"
    },
    "language_info": {
      "name": "python"
    },
    "accelerator": "GPU",
    "widgets": {
      "application/vnd.jupyter.widget-state+json": {
        "25bdd7fa0aa741b9b03192489455b642": {
          "model_module": "@jupyter-widgets/controls",
          "model_name": "HBoxModel",
          "model_module_version": "1.5.0",
          "state": {
            "_dom_classes": [],
            "_model_module": "@jupyter-widgets/controls",
            "_model_module_version": "1.5.0",
            "_model_name": "HBoxModel",
            "_view_count": null,
            "_view_module": "@jupyter-widgets/controls",
            "_view_module_version": "1.5.0",
            "_view_name": "HBoxView",
            "box_style": "",
            "children": [
              "IPY_MODEL_fb08ecbc82dd4a2180c955350567e627",
              "IPY_MODEL_a73443afffaa4674aa04dbe6f4147ca7",
              "IPY_MODEL_109ec91b6edd40c896853f795963cf23"
            ],
            "layout": "IPY_MODEL_a00a51ef1681431fa71edcc6a17e42f9"
          }
        },
        "fb08ecbc82dd4a2180c955350567e627": {
          "model_module": "@jupyter-widgets/controls",
          "model_name": "HTMLModel",
          "model_module_version": "1.5.0",
          "state": {
            "_dom_classes": [],
            "_model_module": "@jupyter-widgets/controls",
            "_model_module_version": "1.5.0",
            "_model_name": "HTMLModel",
            "_view_count": null,
            "_view_module": "@jupyter-widgets/controls",
            "_view_module_version": "1.5.0",
            "_view_name": "HTMLView",
            "description": "",
            "description_tooltip": null,
            "layout": "IPY_MODEL_89143ff90bd44911b7c406e84573d058",
            "placeholder": "​",
            "style": "IPY_MODEL_a7a59c0b7a8b4773a7fa6805b5f930a5",
            "value": "Batches: 100%"
          }
        },
        "a73443afffaa4674aa04dbe6f4147ca7": {
          "model_module": "@jupyter-widgets/controls",
          "model_name": "FloatProgressModel",
          "model_module_version": "1.5.0",
          "state": {
            "_dom_classes": [],
            "_model_module": "@jupyter-widgets/controls",
            "_model_module_version": "1.5.0",
            "_model_name": "FloatProgressModel",
            "_view_count": null,
            "_view_module": "@jupyter-widgets/controls",
            "_view_module_version": "1.5.0",
            "_view_name": "ProgressView",
            "bar_style": "success",
            "description": "",
            "description_tooltip": null,
            "layout": "IPY_MODEL_43e09b5905354f5daaf9bc426233b99f",
            "max": 78,
            "min": 0,
            "orientation": "horizontal",
            "style": "IPY_MODEL_2e633946593d44b2989ddc72fc61fe3d",
            "value": 78
          }
        },
        "109ec91b6edd40c896853f795963cf23": {
          "model_module": "@jupyter-widgets/controls",
          "model_name": "HTMLModel",
          "model_module_version": "1.5.0",
          "state": {
            "_dom_classes": [],
            "_model_module": "@jupyter-widgets/controls",
            "_model_module_version": "1.5.0",
            "_model_name": "HTMLModel",
            "_view_count": null,
            "_view_module": "@jupyter-widgets/controls",
            "_view_module_version": "1.5.0",
            "_view_name": "HTMLView",
            "description": "",
            "description_tooltip": null,
            "layout": "IPY_MODEL_3d9bd31f96524be7a47ced02d6c32d9a",
            "placeholder": "​",
            "style": "IPY_MODEL_2d6df98adca84db7b9023704e752a64e",
            "value": " 78/78 [00:05&lt;00:00, 15.43it/s]"
          }
        },
        "a00a51ef1681431fa71edcc6a17e42f9": {
          "model_module": "@jupyter-widgets/base",
          "model_name": "LayoutModel",
          "model_module_version": "1.2.0",
          "state": {
            "_model_module": "@jupyter-widgets/base",
            "_model_module_version": "1.2.0",
            "_model_name": "LayoutModel",
            "_view_count": null,
            "_view_module": "@jupyter-widgets/base",
            "_view_module_version": "1.2.0",
            "_view_name": "LayoutView",
            "align_content": null,
            "align_items": null,
            "align_self": null,
            "border": null,
            "bottom": null,
            "display": null,
            "flex": null,
            "flex_flow": null,
            "grid_area": null,
            "grid_auto_columns": null,
            "grid_auto_flow": null,
            "grid_auto_rows": null,
            "grid_column": null,
            "grid_gap": null,
            "grid_row": null,
            "grid_template_areas": null,
            "grid_template_columns": null,
            "grid_template_rows": null,
            "height": null,
            "justify_content": null,
            "justify_items": null,
            "left": null,
            "margin": null,
            "max_height": null,
            "max_width": null,
            "min_height": null,
            "min_width": null,
            "object_fit": null,
            "object_position": null,
            "order": null,
            "overflow": null,
            "overflow_x": null,
            "overflow_y": null,
            "padding": null,
            "right": null,
            "top": null,
            "visibility": null,
            "width": null
          }
        },
        "89143ff90bd44911b7c406e84573d058": {
          "model_module": "@jupyter-widgets/base",
          "model_name": "LayoutModel",
          "model_module_version": "1.2.0",
          "state": {
            "_model_module": "@jupyter-widgets/base",
            "_model_module_version": "1.2.0",
            "_model_name": "LayoutModel",
            "_view_count": null,
            "_view_module": "@jupyter-widgets/base",
            "_view_module_version": "1.2.0",
            "_view_name": "LayoutView",
            "align_content": null,
            "align_items": null,
            "align_self": null,
            "border": null,
            "bottom": null,
            "display": null,
            "flex": null,
            "flex_flow": null,
            "grid_area": null,
            "grid_auto_columns": null,
            "grid_auto_flow": null,
            "grid_auto_rows": null,
            "grid_column": null,
            "grid_gap": null,
            "grid_row": null,
            "grid_template_areas": null,
            "grid_template_columns": null,
            "grid_template_rows": null,
            "height": null,
            "justify_content": null,
            "justify_items": null,
            "left": null,
            "margin": null,
            "max_height": null,
            "max_width": null,
            "min_height": null,
            "min_width": null,
            "object_fit": null,
            "object_position": null,
            "order": null,
            "overflow": null,
            "overflow_x": null,
            "overflow_y": null,
            "padding": null,
            "right": null,
            "top": null,
            "visibility": null,
            "width": null
          }
        },
        "a7a59c0b7a8b4773a7fa6805b5f930a5": {
          "model_module": "@jupyter-widgets/controls",
          "model_name": "DescriptionStyleModel",
          "model_module_version": "1.5.0",
          "state": {
            "_model_module": "@jupyter-widgets/controls",
            "_model_module_version": "1.5.0",
            "_model_name": "DescriptionStyleModel",
            "_view_count": null,
            "_view_module": "@jupyter-widgets/base",
            "_view_module_version": "1.2.0",
            "_view_name": "StyleView",
            "description_width": ""
          }
        },
        "43e09b5905354f5daaf9bc426233b99f": {
          "model_module": "@jupyter-widgets/base",
          "model_name": "LayoutModel",
          "model_module_version": "1.2.0",
          "state": {
            "_model_module": "@jupyter-widgets/base",
            "_model_module_version": "1.2.0",
            "_model_name": "LayoutModel",
            "_view_count": null,
            "_view_module": "@jupyter-widgets/base",
            "_view_module_version": "1.2.0",
            "_view_name": "LayoutView",
            "align_content": null,
            "align_items": null,
            "align_self": null,
            "border": null,
            "bottom": null,
            "display": null,
            "flex": null,
            "flex_flow": null,
            "grid_area": null,
            "grid_auto_columns": null,
            "grid_auto_flow": null,
            "grid_auto_rows": null,
            "grid_column": null,
            "grid_gap": null,
            "grid_row": null,
            "grid_template_areas": null,
            "grid_template_columns": null,
            "grid_template_rows": null,
            "height": null,
            "justify_content": null,
            "justify_items": null,
            "left": null,
            "margin": null,
            "max_height": null,
            "max_width": null,
            "min_height": null,
            "min_width": null,
            "object_fit": null,
            "object_position": null,
            "order": null,
            "overflow": null,
            "overflow_x": null,
            "overflow_y": null,
            "padding": null,
            "right": null,
            "top": null,
            "visibility": null,
            "width": null
          }
        },
        "2e633946593d44b2989ddc72fc61fe3d": {
          "model_module": "@jupyter-widgets/controls",
          "model_name": "ProgressStyleModel",
          "model_module_version": "1.5.0",
          "state": {
            "_model_module": "@jupyter-widgets/controls",
            "_model_module_version": "1.5.0",
            "_model_name": "ProgressStyleModel",
            "_view_count": null,
            "_view_module": "@jupyter-widgets/base",
            "_view_module_version": "1.2.0",
            "_view_name": "StyleView",
            "bar_color": null,
            "description_width": ""
          }
        },
        "3d9bd31f96524be7a47ced02d6c32d9a": {
          "model_module": "@jupyter-widgets/base",
          "model_name": "LayoutModel",
          "model_module_version": "1.2.0",
          "state": {
            "_model_module": "@jupyter-widgets/base",
            "_model_module_version": "1.2.0",
            "_model_name": "LayoutModel",
            "_view_count": null,
            "_view_module": "@jupyter-widgets/base",
            "_view_module_version": "1.2.0",
            "_view_name": "LayoutView",
            "align_content": null,
            "align_items": null,
            "align_self": null,
            "border": null,
            "bottom": null,
            "display": null,
            "flex": null,
            "flex_flow": null,
            "grid_area": null,
            "grid_auto_columns": null,
            "grid_auto_flow": null,
            "grid_auto_rows": null,
            "grid_column": null,
            "grid_gap": null,
            "grid_row": null,
            "grid_template_areas": null,
            "grid_template_columns": null,
            "grid_template_rows": null,
            "height": null,
            "justify_content": null,
            "justify_items": null,
            "left": null,
            "margin": null,
            "max_height": null,
            "max_width": null,
            "min_height": null,
            "min_width": null,
            "object_fit": null,
            "object_position": null,
            "order": null,
            "overflow": null,
            "overflow_x": null,
            "overflow_y": null,
            "padding": null,
            "right": null,
            "top": null,
            "visibility": null,
            "width": null
          }
        },
        "2d6df98adca84db7b9023704e752a64e": {
          "model_module": "@jupyter-widgets/controls",
          "model_name": "DescriptionStyleModel",
          "model_module_version": "1.5.0",
          "state": {
            "_model_module": "@jupyter-widgets/controls",
            "_model_module_version": "1.5.0",
            "_model_name": "DescriptionStyleModel",
            "_view_count": null,
            "_view_module": "@jupyter-widgets/base",
            "_view_module_version": "1.2.0",
            "_view_name": "StyleView",
            "description_width": ""
          }
        },
        "f91b57965ee94bdb9a19ea404f031067": {
          "model_module": "@jupyter-widgets/controls",
          "model_name": "HBoxModel",
          "model_module_version": "1.5.0",
          "state": {
            "_dom_classes": [],
            "_model_module": "@jupyter-widgets/controls",
            "_model_module_version": "1.5.0",
            "_model_name": "HBoxModel",
            "_view_count": null,
            "_view_module": "@jupyter-widgets/controls",
            "_view_module_version": "1.5.0",
            "_view_name": "HBoxView",
            "box_style": "",
            "children": [
              "IPY_MODEL_c1246748096943b39784be579aeba99d",
              "IPY_MODEL_9a9b0ddd7aa3418ea6af8623953986a0",
              "IPY_MODEL_6c8de7e81fca4c50b67b73a4d1470e59"
            ],
            "layout": "IPY_MODEL_31c884e6ca7c422198f6c3377891b6ba"
          }
        },
        "c1246748096943b39784be579aeba99d": {
          "model_module": "@jupyter-widgets/controls",
          "model_name": "HTMLModel",
          "model_module_version": "1.5.0",
          "state": {
            "_dom_classes": [],
            "_model_module": "@jupyter-widgets/controls",
            "_model_module_version": "1.5.0",
            "_model_name": "HTMLModel",
            "_view_count": null,
            "_view_module": "@jupyter-widgets/controls",
            "_view_module_version": "1.5.0",
            "_view_name": "HTMLView",
            "description": "",
            "description_tooltip": null,
            "layout": "IPY_MODEL_65116284ca944cd7869838d03b470daa",
            "placeholder": "​",
            "style": "IPY_MODEL_3c3214becd804fff860575afedda3acc",
            "value": "Batches: 100%"
          }
        },
        "9a9b0ddd7aa3418ea6af8623953986a0": {
          "model_module": "@jupyter-widgets/controls",
          "model_name": "FloatProgressModel",
          "model_module_version": "1.5.0",
          "state": {
            "_dom_classes": [],
            "_model_module": "@jupyter-widgets/controls",
            "_model_module_version": "1.5.0",
            "_model_name": "FloatProgressModel",
            "_view_count": null,
            "_view_module": "@jupyter-widgets/controls",
            "_view_module_version": "1.5.0",
            "_view_name": "ProgressView",
            "bar_style": "success",
            "description": "",
            "description_tooltip": null,
            "layout": "IPY_MODEL_b2ec79c543e14f66b636287e1175a93d",
            "max": 78,
            "min": 0,
            "orientation": "horizontal",
            "style": "IPY_MODEL_690215b8861c432c8b2f8baee497b075",
            "value": 78
          }
        },
        "6c8de7e81fca4c50b67b73a4d1470e59": {
          "model_module": "@jupyter-widgets/controls",
          "model_name": "HTMLModel",
          "model_module_version": "1.5.0",
          "state": {
            "_dom_classes": [],
            "_model_module": "@jupyter-widgets/controls",
            "_model_module_version": "1.5.0",
            "_model_name": "HTMLModel",
            "_view_count": null,
            "_view_module": "@jupyter-widgets/controls",
            "_view_module_version": "1.5.0",
            "_view_name": "HTMLView",
            "description": "",
            "description_tooltip": null,
            "layout": "IPY_MODEL_1cb7ba750e654993b25e2d0d76b44eba",
            "placeholder": "​",
            "style": "IPY_MODEL_d9eb69995a2f451f8f16d76d35aa4a36",
            "value": " 78/78 [00:05&lt;00:00, 19.19it/s]"
          }
        },
        "31c884e6ca7c422198f6c3377891b6ba": {
          "model_module": "@jupyter-widgets/base",
          "model_name": "LayoutModel",
          "model_module_version": "1.2.0",
          "state": {
            "_model_module": "@jupyter-widgets/base",
            "_model_module_version": "1.2.0",
            "_model_name": "LayoutModel",
            "_view_count": null,
            "_view_module": "@jupyter-widgets/base",
            "_view_module_version": "1.2.0",
            "_view_name": "LayoutView",
            "align_content": null,
            "align_items": null,
            "align_self": null,
            "border": null,
            "bottom": null,
            "display": null,
            "flex": null,
            "flex_flow": null,
            "grid_area": null,
            "grid_auto_columns": null,
            "grid_auto_flow": null,
            "grid_auto_rows": null,
            "grid_column": null,
            "grid_gap": null,
            "grid_row": null,
            "grid_template_areas": null,
            "grid_template_columns": null,
            "grid_template_rows": null,
            "height": null,
            "justify_content": null,
            "justify_items": null,
            "left": null,
            "margin": null,
            "max_height": null,
            "max_width": null,
            "min_height": null,
            "min_width": null,
            "object_fit": null,
            "object_position": null,
            "order": null,
            "overflow": null,
            "overflow_x": null,
            "overflow_y": null,
            "padding": null,
            "right": null,
            "top": null,
            "visibility": null,
            "width": null
          }
        },
        "65116284ca944cd7869838d03b470daa": {
          "model_module": "@jupyter-widgets/base",
          "model_name": "LayoutModel",
          "model_module_version": "1.2.0",
          "state": {
            "_model_module": "@jupyter-widgets/base",
            "_model_module_version": "1.2.0",
            "_model_name": "LayoutModel",
            "_view_count": null,
            "_view_module": "@jupyter-widgets/base",
            "_view_module_version": "1.2.0",
            "_view_name": "LayoutView",
            "align_content": null,
            "align_items": null,
            "align_self": null,
            "border": null,
            "bottom": null,
            "display": null,
            "flex": null,
            "flex_flow": null,
            "grid_area": null,
            "grid_auto_columns": null,
            "grid_auto_flow": null,
            "grid_auto_rows": null,
            "grid_column": null,
            "grid_gap": null,
            "grid_row": null,
            "grid_template_areas": null,
            "grid_template_columns": null,
            "grid_template_rows": null,
            "height": null,
            "justify_content": null,
            "justify_items": null,
            "left": null,
            "margin": null,
            "max_height": null,
            "max_width": null,
            "min_height": null,
            "min_width": null,
            "object_fit": null,
            "object_position": null,
            "order": null,
            "overflow": null,
            "overflow_x": null,
            "overflow_y": null,
            "padding": null,
            "right": null,
            "top": null,
            "visibility": null,
            "width": null
          }
        },
        "3c3214becd804fff860575afedda3acc": {
          "model_module": "@jupyter-widgets/controls",
          "model_name": "DescriptionStyleModel",
          "model_module_version": "1.5.0",
          "state": {
            "_model_module": "@jupyter-widgets/controls",
            "_model_module_version": "1.5.0",
            "_model_name": "DescriptionStyleModel",
            "_view_count": null,
            "_view_module": "@jupyter-widgets/base",
            "_view_module_version": "1.2.0",
            "_view_name": "StyleView",
            "description_width": ""
          }
        },
        "b2ec79c543e14f66b636287e1175a93d": {
          "model_module": "@jupyter-widgets/base",
          "model_name": "LayoutModel",
          "model_module_version": "1.2.0",
          "state": {
            "_model_module": "@jupyter-widgets/base",
            "_model_module_version": "1.2.0",
            "_model_name": "LayoutModel",
            "_view_count": null,
            "_view_module": "@jupyter-widgets/base",
            "_view_module_version": "1.2.0",
            "_view_name": "LayoutView",
            "align_content": null,
            "align_items": null,
            "align_self": null,
            "border": null,
            "bottom": null,
            "display": null,
            "flex": null,
            "flex_flow": null,
            "grid_area": null,
            "grid_auto_columns": null,
            "grid_auto_flow": null,
            "grid_auto_rows": null,
            "grid_column": null,
            "grid_gap": null,
            "grid_row": null,
            "grid_template_areas": null,
            "grid_template_columns": null,
            "grid_template_rows": null,
            "height": null,
            "justify_content": null,
            "justify_items": null,
            "left": null,
            "margin": null,
            "max_height": null,
            "max_width": null,
            "min_height": null,
            "min_width": null,
            "object_fit": null,
            "object_position": null,
            "order": null,
            "overflow": null,
            "overflow_x": null,
            "overflow_y": null,
            "padding": null,
            "right": null,
            "top": null,
            "visibility": null,
            "width": null
          }
        },
        "690215b8861c432c8b2f8baee497b075": {
          "model_module": "@jupyter-widgets/controls",
          "model_name": "ProgressStyleModel",
          "model_module_version": "1.5.0",
          "state": {
            "_model_module": "@jupyter-widgets/controls",
            "_model_module_version": "1.5.0",
            "_model_name": "ProgressStyleModel",
            "_view_count": null,
            "_view_module": "@jupyter-widgets/base",
            "_view_module_version": "1.2.0",
            "_view_name": "StyleView",
            "bar_color": null,
            "description_width": ""
          }
        },
        "1cb7ba750e654993b25e2d0d76b44eba": {
          "model_module": "@jupyter-widgets/base",
          "model_name": "LayoutModel",
          "model_module_version": "1.2.0",
          "state": {
            "_model_module": "@jupyter-widgets/base",
            "_model_module_version": "1.2.0",
            "_model_name": "LayoutModel",
            "_view_count": null,
            "_view_module": "@jupyter-widgets/base",
            "_view_module_version": "1.2.0",
            "_view_name": "LayoutView",
            "align_content": null,
            "align_items": null,
            "align_self": null,
            "border": null,
            "bottom": null,
            "display": null,
            "flex": null,
            "flex_flow": null,
            "grid_area": null,
            "grid_auto_columns": null,
            "grid_auto_flow": null,
            "grid_auto_rows": null,
            "grid_column": null,
            "grid_gap": null,
            "grid_row": null,
            "grid_template_areas": null,
            "grid_template_columns": null,
            "grid_template_rows": null,
            "height": null,
            "justify_content": null,
            "justify_items": null,
            "left": null,
            "margin": null,
            "max_height": null,
            "max_width": null,
            "min_height": null,
            "min_width": null,
            "object_fit": null,
            "object_position": null,
            "order": null,
            "overflow": null,
            "overflow_x": null,
            "overflow_y": null,
            "padding": null,
            "right": null,
            "top": null,
            "visibility": null,
            "width": null
          }
        },
        "d9eb69995a2f451f8f16d76d35aa4a36": {
          "model_module": "@jupyter-widgets/controls",
          "model_name": "DescriptionStyleModel",
          "model_module_version": "1.5.0",
          "state": {
            "_model_module": "@jupyter-widgets/controls",
            "_model_module_version": "1.5.0",
            "_model_name": "DescriptionStyleModel",
            "_view_count": null,
            "_view_module": "@jupyter-widgets/base",
            "_view_module_version": "1.2.0",
            "_view_name": "StyleView",
            "description_width": ""
          }
        }
      }
    }
  },
  "cells": [
    {
      "cell_type": "markdown",
      "metadata": {
        "id": "view-in-github",
        "colab_type": "text"
      },
      "source": [
        "<a href=\"https://colab.research.google.com/github/TurkuNLP/Deep_Learning_in_LangTech_course/blob/master/sentence_transformers.ipynb\" target=\"_parent\"><img src=\"https://colab.research.google.com/assets/colab-badge.svg\" alt=\"Open In Colab\"/></a>"
      ]
    },
    {
      "cell_type": "markdown",
      "source": [
        "# Sentence Transformers\n",
        "\n",
        "* We will test the sentence transformers we saw on the lecture\n",
        "* This is best done using the sentence-transformers package\n",
        "* Documentation and other information: https://www.sbert.net/"
      ],
      "metadata": {
        "id": "Byvzr2bHLhJO"
      }
    },
    {
      "cell_type": "code",
      "execution_count": 18,
      "metadata": {
        "id": "23caDBRIDc5Z"
      },
      "outputs": [],
      "source": [
        "!pip3 install -q datasets transformers sentence-transformers"
      ]
    },
    {
      "cell_type": "markdown",
      "source": [
        "# Data\n",
        "\n",
        "For this exercise we will need some paraphrase-style data, i.e. sentence pairs with the same meaning.\n",
        "\n",
        "* **English** We can use for example the MRPC dataset from GLUE\n",
        "* **Finnish** We can use TurkuNLP's own large paraphrase dataset\n",
        "\n",
        "Both are fortunately in the Hugging Face datasets repository :)\n",
        "\n",
        "# The task\n",
        "\n",
        "For each text, identify its most likely paraphrase by comparing its embedding with the embeddings of all possible sentences it could be paired with in the data and selecting the one with the maximum similarity."
      ],
      "metadata": {
        "id": "4uc95co_L-NH"
      }
    },
    {
      "cell_type": "markdown",
      "source": [
        "# English - MRPC"
      ],
      "metadata": {
        "id": "-696qcX4NKcv"
      }
    },
    {
      "cell_type": "markdown",
      "source": [
        "Description from [Hugging Face datasets MRPC](https://huggingface.co/datasets/glue#mrpc) entry:\n",
        "\n",
        "> The Microsoft Research Paraphrase Corpus (Dolan & Brockett, 2005) is a corpus of sentence pairs automatically extracted from online news sources, with human annotations for whether the sentences in the pair are semantically equivalent."
      ],
      "metadata": {
        "id": "oUDYY27LSkLc"
      }
    },
    {
      "cell_type": "code",
      "source": [
        "import datasets\n",
        "\n",
        "dataset_en = datasets.load_dataset(\"glue\", \"mrpc\")"
      ],
      "metadata": {
        "id": "rBkQplFAEBtV"
      },
      "execution_count": 19,
      "outputs": []
    },
    {
      "cell_type": "code",
      "source": [
        "# Filter to positive cases to assure paraphrase pair exists\n",
        "def is_paraphrase_pair(example):\n",
        "    return example[\"label\"] == 1\n",
        "\n",
        "dataset_en = dataset_en.filter(is_paraphrase_pair)"
      ],
      "metadata": {
        "id": "ChEfH5qXWRgx"
      },
      "execution_count": 20,
      "outputs": []
    },
    {
      "cell_type": "code",
      "source": [
        "# Print the first 20 examples\n",
        "for item in dataset_en[\"test\"].select(range(20)):\n",
        "    print(item)"
      ],
      "metadata": {
        "colab": {
          "base_uri": "https://localhost:8080/"
        },
        "id": "iWiLtthiElYl",
        "outputId": "59e5555b-957c-49aa-c955-e222aaa340d4"
      },
      "execution_count": 21,
      "outputs": [
        {
          "output_type": "stream",
          "name": "stdout",
          "text": [
            "{'sentence1': \"PCCW 's chief operating officer , Mike Butcher , and Alex Arena , the chief financial officer , will report directly to Mr So .\", 'sentence2': 'Current Chief Operating Officer Mike Butcher and Group Chief Financial Officer Alex Arena will report to So .', 'label': 1, 'idx': 0}\n",
            "{'sentence1': \"The world 's two largest automakers said their U.S. sales declined more than predicted last month as a late summer sales frenzy caused more of an industry backlash than expected .\", 'sentence2': 'Domestic sales at both GM and No. 2 Ford Motor Co. declined more than predicted as a late summer sales frenzy prompted a larger-than-expected industry backlash .', 'label': 1, 'idx': 1}\n",
            "{'sentence1': 'According to the federal Centers for Disease Control and Prevention ( news - web sites ) , there were 19 reported cases of measles in the United States in 2002 .', 'sentence2': 'The Centers for Disease Control and Prevention said there were 19 reported cases of measles in the United States in 2002 .', 'label': 1, 'idx': 2}\n",
            "{'sentence1': 'The settling companies would also assign their possible claims against the underwriters to the investor plaintiffs , he added .', 'sentence2': 'Under the agreement , the settling companies will also assign their potential claims against the underwriters to the investors , he added .', 'label': 1, 'idx': 5}\n",
            "{'sentence1': 'A Washington County man may have the countys first human case of West Nile virus , the health department said Friday .', 'sentence2': 'The countys first and only human case of West Nile this year was confirmed by health officials on Sept . 8 .', 'label': 1, 'idx': 7}\n",
            "{'sentence1': 'Moseley and a senior aide delivered their summary assessments to about 300 American and allied military officers on Thursday .', 'sentence2': 'General Moseley and a senior aide presented their assessments at an internal briefing for American and allied military officers at Nellis Air Force Base in Nevada on Thursday .', 'label': 1, 'idx': 8}\n",
            "{'sentence1': 'Consumers would still have to get a descrambling security card from their cable operator to plug into the set .', 'sentence2': 'To watch pay television , consumers would insert into the set a security card provided by their cable service .', 'label': 1, 'idx': 10}\n",
            "{'sentence1': 'The increase reflects lower credit losses and favorable interest rates .', 'sentence2': 'The gain came as a result of fewer credit losses and lower interest rates .', 'label': 1, 'idx': 11}\n",
            "{'sentence1': \"The device plays Internet radio streams and comes with a 30-day trial of RealNetworks ' Rhapsody music service .\", 'sentence2': \"The product also streams Internet radio and comes with a 30-day free trial for RealNetworks ' Rhapsody digital music subscription service .\", 'label': 1, 'idx': 12}\n",
            "{'sentence1': 'Evidence suggests two of the victims were taken by surprise , while the other two might have tried to flee or to defend themselves or the others , police said .', 'sentence2': 'Evidence suggests two victims were taken by surprise , while the others may have tried to flee or perhaps defend themselves or their friends , police said .', 'label': 1, 'idx': 14}\n",
            "{'sentence1': 'A charter plane crashed in Turkey on Monday , killing all 75 people aboard , including 62 Spanish peacekeepers returning from Afghanistan , officials said .', 'sentence2': 'A plane carrying 75 people , including 62 Spanish peacekeepers returning from Afghanistan , crashed in thick fog in Turkey early on Monday , killing all aboard , officials said .', 'label': 1, 'idx': 16}\n",
            "{'sentence1': 'Moroccan Interior Minister Al Mustapha Sahel said the investigation \" points to a group that has been arrested recently \" , an apparent reference to Djihad Salafist .', 'sentence2': 'Moroccan Interior Minister Al Mustapha Sahel told state-run 2M television late Saturday the investigation \" points to a group that has been arrested recently \" an apparent reference to Salafist Jihad .', 'label': 1, 'idx': 17}\n",
            "{'sentence1': '\" I \\'m delighted that David Chase has decided to give us another chapter in the great \\' Sopranos \\' saga , \" HBO chairman and chief executive Chris Albrecht said .', 'sentence2': '\" I \\'m delighted that David Chase has decided to give us another chapter in the great Sopranos saga , \" said HBO Chairman Chris Albrecht in a statement .', 'label': 1, 'idx': 18}\n",
            "{'sentence1': 'The two had argued that only a new board would have had the credibility to restore El Paso to health .', 'sentence2': 'He and Zilkha believed that only a new board would have had the credibility to restore El Paso to health .', 'label': 1, 'idx': 19}\n",
            "{'sentence1': '\" There \\'s no reason for you to keep your skills up , \" the judge told the convicted crack cocaine kingpin .', 'sentence2': '\" There \\'s no reason for you to keep your skills up , \" U.S. District Judge J. Frederick Motz told McGriff after he was sentenced .', 'label': 1, 'idx': 20}\n",
            "{'sentence1': 'Still , he said , \" I \\'m absolutely confident we \\'re going to have a bill . \"', 'sentence2': '\" I \\'m absolutely confident we \\'re going to have a bill , \" Frist , R-Tenn . , said Thursday .', 'label': 1, 'idx': 21}\n",
            "{'sentence1': '\" Senator Clinton should be ashamed of herself for playing politics with the important issue of homeland security funding , \" he said .', 'sentence2': '\" She should be ashamed of herself for playing politics with this important issue , \" said state budget division spokesman Andrew Rush .', 'label': 1, 'idx': 22}\n",
            "{'sentence1': 'Federal agents said yesterday they are investigating the theft of 1,200 pounds of an explosive chemical from construction companies in Colorado and California in the past week .', 'sentence2': 'Federal investigators are looking for possible connections between the theft of 1,100 pounds of an explosive chemical from construction companies in Colorado and California in the past week .', 'label': 1, 'idx': 23}\n",
            "{'sentence1': \"Schofield got Toepfer to admit on cross-examination that she ignored many of O 'Donnell 's suggestions and projects .\", 'sentence2': \"But under cross-examination by O 'Donnell 's attorney , Lorna Schofield , Toepfer conceded she had ignored many of O 'Donnell 's suggestions and projects .\", 'label': 1, 'idx': 25}\n",
            "{'sentence1': 'The man accused of using fake grenades to commandeer a Cuban plane that landed in Key West in April was sentenced Friday to 20 years in prison .', 'sentence2': 'A Cuban architect was sentenced to 20 years in prison Friday for using two fake grenades to hijack a passenger plane from Cuba to Florida in April .', 'label': 1, 'idx': 26}\n"
          ]
        }
      ]
    },
    {
      "cell_type": "markdown",
      "source": [
        "# Finnish - Turku Paraphrase Corpus\n",
        "\n",
        "Description from [Hugging Face datasets Turku Paraphrase Corpus](https://huggingface.co/datasets/TurkuNLP/turku_paraphrase_corpus) entry:\n",
        "\n",
        "> The project gathered a large dataset of Finnish paraphrase pairs (over 100,000). The paraphrases are selected and classified manually, so as to minimize lexical overlap, and provide examples that are maximally structurally and lexically different. The objective is to create a dataset which is challenging and better tests the capabilities of natural language understanding. An important feature of the data is that most paraphrase pairs are distributed in their document context. The primary application for the dataset is the development and evaluation of deep language models, and representation learning in general.\n",
        "\n",
        "Some observations about the Finnish dataset:\n",
        "* Labels are a bit more complex than just paraphrase yes/no\n",
        "* 4: paraphrase universally, 3: paraphrase in the given context, 2: related but not paraphrase\n",
        "* 4> and 4< paraphrase in one direction but not the other (entailment)"
      ],
      "metadata": {
        "id": "3JjmA_TPOdzS"
      }
    },
    {
      "cell_type": "code",
      "source": [
        "dataset_fi = datasets.load_dataset(\"TurkuNLP/turku_paraphrase_corpus\", \"plain\")"
      ],
      "metadata": {
        "id": "LfaWbLRUFkyj"
      },
      "execution_count": 22,
      "outputs": []
    },
    {
      "cell_type": "code",
      "source": [
        "# Filter to full paraphrases to assure paraphrase pair exists\n",
        "def is_paraphrase_pair(example):\n",
        "    return example[\"label\"] == \"4\"\n",
        "\n",
        "dataset_fi = dataset_fi.filter(is_paraphrase_pair)"
      ],
      "metadata": {
        "id": "NXU1iyAPXR1R"
      },
      "execution_count": 23,
      "outputs": []
    },
    {
      "cell_type": "code",
      "source": [
        "# Print the first 20 examples\n",
        "for item in dataset_fi[\"test\"].select(range(20)):\n",
        "    print(item)"
      ],
      "metadata": {
        "id": "BdH_ysFdQRd7",
        "outputId": "f5ccacee-241a-4e09-bf3a-c8c16ad0f0bd",
        "colab": {
          "base_uri": "https://localhost:8080/"
        }
      },
      "execution_count": 24,
      "outputs": [
        {
          "output_type": "stream",
          "name": "stdout",
          "text": [
            "{'id': 'turku_paraphrase_corpus-test-1', 'gem_id': 'gem-turku_paraphrase_corpus-test-1', 'goeswith': 'episode-11836', 'fold': 90, 'text1': 'Katsokaa hänen pikkuhampaita. Ihan kuin delfiinimies.', 'text2': 'Katsokaa hänen pikkuruisia hampaitaan, hän näyttää delfiinimieheltä.', 'label': '4', 'binary_label': 'positive', 'is_rewrite': True}\n",
            "{'id': 'turku_paraphrase_corpus-test-3', 'gem_id': 'gem-turku_paraphrase_corpus-test-3', 'goeswith': 'episode-07366', 'fold': 90, 'text1': 'Tarkkailen tilanneta vielä muutaman minuutin. Sitten menen takaisin sisälle.', 'text2': 'Katson tilannetta vielä muutaman minuutin ajan ja menen uudelleen sisään.', 'label': '4', 'binary_label': 'positive', 'is_rewrite': True}\n",
            "{'id': 'turku_paraphrase_corpus-test-5', 'gem_id': 'gem-turku_paraphrase_corpus-test-5', 'goeswith': 'episode-00231', 'fold': 90, 'text1': 'Et erotettuna jatka tämän jutun tutkimuksia.', 'text2': 'Sinut on erotettu tästä jutusta ja sen tutkimuksista.', 'label': '4', 'binary_label': 'positive', 'is_rewrite': True}\n",
            "{'id': 'turku_paraphrase_corpus-test-7', 'gem_id': 'gem-turku_paraphrase_corpus-test-7', 'goeswith': 'episode-07366', 'fold': 90, 'text1': 'Ohjelmasi on lähes valmis.', 'text2': 'Ohjelmasi on melkein valmis.', 'label': '4', 'binary_label': 'positive', 'is_rewrite': True}\n",
            "{'id': 'turku_paraphrase_corpus-test-9', 'gem_id': 'gem-turku_paraphrase_corpus-test-9', 'goeswith': 'episode-03292', 'fold': 90, 'text1': 'Kertokaa kaikki siitä puusta. Yksityiskohtia myöten.', 'text2': 'Kertokaa kaikki tiedot siitä puusta. Jokainen yksityiskohtakin.', 'label': '4', 'binary_label': 'positive', 'is_rewrite': True}\n",
            "{'id': 'turku_paraphrase_corpus-test-10', 'gem_id': 'gem-turku_paraphrase_corpus-test-10', 'goeswith': 'episode-136359', 'fold': 90, 'text1': 'Jouduimme taas taistelemaan henkemme puolesta.', 'text2': 'Jälleen kerran löysimme itsemme taistelemasta henkemme edestä.', 'label': '4', 'binary_label': 'positive', 'is_rewrite': False}\n",
            "{'id': 'turku_paraphrase_corpus-test-11', 'gem_id': 'gem-turku_paraphrase_corpus-test-11', 'goeswith': 'trans-saksa-suomi-2020_T1', 'fold': 90, 'text1': 'Vaikutti siltä, että budjettikin oli tällä kertaa laskettu järkevästi.', 'text2': 'Ja budjettikin oli näköjään laskettu realistisesti tällä kertaa.', 'label': '4', 'binary_label': 'positive', 'is_rewrite': False}\n",
            "{'id': 'turku_paraphrase_corpus-test-15', 'gem_id': 'gem-turku_paraphrase_corpus-test-15', 'goeswith': 'not available', 'fold': 90, 'text1': 'Timo Tammiselta karhuttiin kahden ajoneuvon veroja, vaikkei hän ollut kulkupelejä edes nähnyt', 'text2': 'Timo Tammiselta karhuttiin kahden ajoneuvon veroja, vaikka hän ei mielestään ollut ikinä nähnytkään kulkupelejä', 'label': '4', 'binary_label': 'positive', 'is_rewrite': False}\n",
            "{'id': 'turku_paraphrase_corpus-test-24', 'gem_id': 'gem-turku_paraphrase_corpus-test-24', 'goeswith': 'episode-00231', 'fold': 90, 'text1': 'Enkä ole koskaan nähnyt sinun tekevän moista.', 'text2': 'En ole koskaan nähnyt sinun tekevän mitään tämän tapaista!', 'label': '4', 'binary_label': 'positive', 'is_rewrite': True}\n",
            "{'id': 'turku_paraphrase_corpus-test-25', 'gem_id': 'gem-turku_paraphrase_corpus-test-25', 'goeswith': 'episode-11836', 'fold': 90, 'text1': 'Stuart sai sillä kahdet treffit. Ja melkein seksiäkin, mutta nainen kieltäytyi.', 'text2': 'Stuart sai kahdet treffit sen avulla. Yksi olisi päätynyt seksiin, jos tyttö ei olisi kieltäytynyt.', 'label': '4', 'binary_label': 'positive', 'is_rewrite': False}\n",
            "{'id': 'turku_paraphrase_corpus-test-27', 'gem_id': 'gem-turku_paraphrase_corpus-test-27', 'goeswith': 'episode-03949', 'fold': 90, 'text1': 'Näen sen katseestasi.', 'text2': 'Näen sen tavasta, jolla katsot minua.', 'label': '4', 'binary_label': 'positive', 'is_rewrite': False}\n",
            "{'id': 'turku_paraphrase_corpus-test-28', 'gem_id': 'gem-turku_paraphrase_corpus-test-28', 'goeswith': 'episode-107653', 'fold': 90, 'text1': 'Tänään on kymmenvuotispäivä täällä työskentelylleni.', 'text2': 'Minulla tulee tänään täyteen 10 vuotta työntekijänä täällä.', 'label': '4', 'binary_label': 'positive', 'is_rewrite': False}\n",
            "{'id': 'turku_paraphrase_corpus-test-29', 'gem_id': 'gem-turku_paraphrase_corpus-test-29', 'goeswith': 's24-t477', 'fold': 90, 'text1': 'veli Venäläinen saa saman tavaran Suomesta 24% halvemmalla kuin itse suomalainen.', 'text2': 'me maksetaan samasta tavarasta kotimaasta 24% enemmän kuin veli Venäläinen.', 'label': '4', 'binary_label': 'positive', 'is_rewrite': False}\n",
            "{'id': 'turku_paraphrase_corpus-test-39', 'gem_id': 'gem-turku_paraphrase_corpus-test-39', 'goeswith': 'episode-195785', 'fold': 90, 'text1': 'Onkohan \"Minähän sanoin\" kortteja sokeainkirjoituksella?', 'text2': 'Löytyyköhän sokeakirjoituksella \"Minähän sanoin\"-kortteja?', 'label': '4', 'binary_label': 'positive', 'is_rewrite': False}\n",
            "{'id': 'turku_paraphrase_corpus-test-40', 'gem_id': 'gem-turku_paraphrase_corpus-test-40', 'goeswith': 'episode-06145', 'fold': 90, 'text1': 'Ei se ole pelkästään tämä.', 'text2': 'Tämä ei ole ainoa asia.', 'label': '4', 'binary_label': 'positive', 'is_rewrite': False}\n",
            "{'id': 'turku_paraphrase_corpus-test-44', 'gem_id': 'gem-turku_paraphrase_corpus-test-44', 'goeswith': 'not available', 'fold': 90, 'text1': 'Osama bin Ladenin poika avioitui syyskuun 11. päivän terrori-iskujen päätoteuttajan tyttären kanssa', 'text2': 'Osama bin Ladenin poika meni naimisiin Mohammed Attan tyttären kanssa', 'label': '4', 'binary_label': 'positive', 'is_rewrite': False}\n",
            "{'id': 'turku_paraphrase_corpus-test-45', 'gem_id': 'gem-turku_paraphrase_corpus-test-45', 'goeswith': 'not available', 'fold': 90, 'text1': 'Osama bin Ladenin poika avioitui Mohammed Attan tyttären kanssa', 'text2': 'Osama bin Ladenin poika meni naimisiin Mohammed Attan tyttären kanssa', 'label': '4', 'binary_label': 'positive', 'is_rewrite': True}\n",
            "{'id': 'turku_paraphrase_corpus-test-50', 'gem_id': 'gem-turku_paraphrase_corpus-test-50', 'goeswith': 's24-t1046', 'fold': 90, 'text1': 'Minä vain kerroin uhrille vitsin ja sattumalta hän nauroi itsensä kuoliaaksi', 'text2': 'minä vain kerroin uhrille vitsin ja hän sattui kuolemaan nauruun.', 'label': '4', 'binary_label': 'positive', 'is_rewrite': False}\n",
            "{'id': 'turku_paraphrase_corpus-test-52', 'gem_id': 'gem-turku_paraphrase_corpus-test-52', 'goeswith': 'trans-saksa-suomi-2020_T1', 'fold': 90, 'text1': 'Kuulleessaan jonkun kutsuvan häntä ”cis-mieheksi”, hän olisi varmaankin siristänyt silmiään ärtyneenä.', 'text2': 'Jos joku olisi sanonut häntä ”cis-mieheksi”, olisi hän taatusti ärsyyntyneenä siristänyt silmiään.', 'label': '4', 'binary_label': 'positive', 'is_rewrite': True}\n",
            "{'id': 'turku_paraphrase_corpus-test-55', 'gem_id': 'gem-turku_paraphrase_corpus-test-55', 'goeswith': 's24-t1266', 'fold': 90, 'text1': 'työpöydän pikakuvakkeet ja tehtäväpalkki ei näy (vain työpöydän taustakuva näkyy).', 'text2': 'mikään ei näy (tehtäväpalkki,Työpöydän pikakuvakkeet) paitsi taustakuva.', 'label': '4', 'binary_label': 'positive', 'is_rewrite': False}\n"
          ]
        }
      ]
    },
    {
      "cell_type": "markdown",
      "source": [
        "# English vs Finnish\n",
        "\n",
        "* Labels differ\n",
        "* One has the texts in `sentence1` and `sentence2` and the other in `text1` and `text2` fields\n",
        "\n",
        "# Sentence transformers\n",
        "\n",
        "* There are 100+ models in the package\n",
        "* `paraphrase-xlm-r-multilingual-v1` is a good choice according to the paper\n",
        "* (this definitely does take some figuring out, though)\n",
        "* this is a cross-lingual model, so we can use it for both datasets"
      ],
      "metadata": {
        "id": "t9pORwNnReU_"
      }
    },
    {
      "cell_type": "code",
      "source": [
        "from sentence_transformers import SentenceTransformer\n",
        "\n",
        "model = SentenceTransformer('paraphrase-xlm-r-multilingual-v1')"
      ],
      "metadata": {
        "id": "gOx6Ka2vD71Y"
      },
      "execution_count": 25,
      "outputs": []
    },
    {
      "cell_type": "code",
      "source": [
        "# go browse sbert.net and look at the example code there\n",
        "# you will learn it has an `encode()` method\n",
        "\n",
        "help(model.encode)"
      ],
      "metadata": {
        "colab": {
          "base_uri": "https://localhost:8080/"
        },
        "id": "eu5n5WaWLTw2",
        "outputId": "fc5dad7f-19ce-4b32-a9ca-572ce57c6cb3"
      },
      "execution_count": 26,
      "outputs": [
        {
          "output_type": "stream",
          "name": "stdout",
          "text": [
            "Help on method encode in module sentence_transformers.SentenceTransformer:\n",
            "\n",
            "encode(sentences: Union[str, List[str]], batch_size: int = 32, show_progress_bar: bool = None, output_value: str = 'sentence_embedding', convert_to_numpy: bool = True, convert_to_tensor: bool = False, device: str = None, normalize_embeddings: bool = False) -> Union[List[torch.Tensor], numpy.ndarray, torch.Tensor] method of sentence_transformers.SentenceTransformer.SentenceTransformer instance\n",
            "    Computes sentence embeddings\n",
            "    \n",
            "    :param sentences: the sentences to embed\n",
            "    :param batch_size: the batch size used for the computation\n",
            "    :param show_progress_bar: Output a progress bar when encode sentences\n",
            "    :param output_value:  Default sentence_embedding, to get sentence embeddings. Can be set to token_embeddings to get wordpiece token embeddings. Set to None, to get all output values\n",
            "    :param convert_to_numpy: If true, the output is a list of numpy vectors. Else, it is a list of pytorch tensors.\n",
            "    :param convert_to_tensor: If true, you get one large tensor as return. Overwrites any setting from convert_to_numpy\n",
            "    :param device: Which torch.device to use for the computation\n",
            "    :param normalize_embeddings: If set to true, returned vectors will have length 1. In that case, the faster dot-product (util.dot_score) instead of cosine similarity can be used.\n",
            "    \n",
            "    :return:\n",
            "       By default, a list of tensors is returned. If convert_to_tensor, a stacked tensor is returned. If convert_to_numpy, a numpy matrix is returned.\n",
            "\n"
          ]
        }
      ]
    },
    {
      "cell_type": "code",
      "source": [
        "# At first, the run was very slow\n",
        "# the way to debug: notice in colab GPU resources that GPU memory is 0\n",
        "# i.e. the model needs to be pushed to the GPU\n",
        "\n",
        "model=model.cuda()  #A pretty generic way of placing something onto the GPU in torch"
      ],
      "metadata": {
        "id": "dxFQ8Md2MUar"
      },
      "execution_count": 27,
      "outputs": []
    },
    {
      "cell_type": "code",
      "source": [
        "#### UNCOMMENT FOR FINNISH\n",
        "\n",
        "#dataset = dataset_fi # change to dataset_en for the English data\n",
        "#text_field = \"text\"  # change to \"sentence\" for the English data\n",
        "#max_count = 10000 # this is a huge dataset, let's take 10K examples\n",
        "\n",
        "####  UNCOMMENT FOR ENGLISH\n",
        "\n",
        "dataset = dataset_en # change to dataset_en for the English data\n",
        "text_field = \"sentence\"  # change to \"sentence\" for the English data\n",
        "max_count=len(dataset[\"train\"]) #This is shorter dataset, we can take everything\n",
        "\n",
        "\n",
        "texts1=[item[text_field+\"1\"] for item in dataset[\"train\"].select(range(max_count))]\n",
        "texts2=[item[text_field+\"2\"] for item in dataset[\"train\"].select(range(max_count))]"
      ],
      "metadata": {
        "id": "75H7HpRFLZMj"
      },
      "execution_count": 28,
      "outputs": []
    },
    {
      "cell_type": "markdown",
      "source": [
        "Now we need to encode the datasets. Since, in the end we will need the data in a matrix form, the easiest is to use the model's own `.encode()` and give it a list of sentences. That means it will batch nicely and run fast.\n",
        "\n",
        "The following parameters given to the function can be glanced from the help"
      ],
      "metadata": {
        "id": "9J7odIXUUN-5"
      }
    },
    {
      "cell_type": "code",
      "source": [
        "encoded_texts1 = model.encode(texts1, convert_to_tensor=True, device=model.device, show_progress_bar=True, normalize_embeddings=True)\n",
        "encoded_texts2 = model.encode(texts2, convert_to_tensor=True, device=model.device, show_progress_bar=True, normalize_embeddings=True)"
      ],
      "metadata": {
        "colab": {
          "base_uri": "https://localhost:8080/",
          "height": 81,
          "referenced_widgets": [
            "25bdd7fa0aa741b9b03192489455b642",
            "fb08ecbc82dd4a2180c955350567e627",
            "a73443afffaa4674aa04dbe6f4147ca7",
            "109ec91b6edd40c896853f795963cf23",
            "a00a51ef1681431fa71edcc6a17e42f9",
            "89143ff90bd44911b7c406e84573d058",
            "a7a59c0b7a8b4773a7fa6805b5f930a5",
            "43e09b5905354f5daaf9bc426233b99f",
            "2e633946593d44b2989ddc72fc61fe3d",
            "3d9bd31f96524be7a47ced02d6c32d9a",
            "2d6df98adca84db7b9023704e752a64e",
            "f91b57965ee94bdb9a19ea404f031067",
            "c1246748096943b39784be579aeba99d",
            "9a9b0ddd7aa3418ea6af8623953986a0",
            "6c8de7e81fca4c50b67b73a4d1470e59",
            "31c884e6ca7c422198f6c3377891b6ba",
            "65116284ca944cd7869838d03b470daa",
            "3c3214becd804fff860575afedda3acc",
            "b2ec79c543e14f66b636287e1175a93d",
            "690215b8861c432c8b2f8baee497b075",
            "1cb7ba750e654993b25e2d0d76b44eba",
            "d9eb69995a2f451f8f16d76d35aa4a36"
          ]
        },
        "id": "m2jkf12OLrdw",
        "outputId": "e58e3af2-cf31-4dbd-e280-40060375a31e"
      },
      "execution_count": 29,
      "outputs": [
        {
          "output_type": "display_data",
          "data": {
            "text/plain": [
              "Batches:   0%|          | 0/78 [00:00<?, ?it/s]"
            ],
            "application/vnd.jupyter.widget-view+json": {
              "version_major": 2,
              "version_minor": 0,
              "model_id": "25bdd7fa0aa741b9b03192489455b642"
            }
          },
          "metadata": {}
        },
        {
          "output_type": "display_data",
          "data": {
            "text/plain": [
              "Batches:   0%|          | 0/78 [00:00<?, ?it/s]"
            ],
            "application/vnd.jupyter.widget-view+json": {
              "version_major": 2,
              "version_minor": 0,
              "model_id": "f91b57965ee94bdb9a19ea404f031067"
            }
          },
          "metadata": {}
        }
      ]
    },
    {
      "cell_type": "markdown",
      "source": [
        "now we have the \"left\" sentences from the dataset encoded in `texts1_e` and the \"right\" sentences in `texts2_e`. Let us make sure:"
      ],
      "metadata": {
        "id": "38tB5qpiVEbU"
      }
    },
    {
      "cell_type": "code",
      "source": [
        "print(encoded_texts1.shape)\n",
        "print(encoded_texts2.shape)"
      ],
      "metadata": {
        "id": "fHzHqPkGU8Pp",
        "outputId": "91371465-8114-4108-eeef-827d9665ea1d",
        "colab": {
          "base_uri": "https://localhost:8080/"
        }
      },
      "execution_count": 30,
      "outputs": [
        {
          "output_type": "stream",
          "name": "stdout",
          "text": [
            "torch.Size([2474, 768])\n",
            "torch.Size([2474, 768])\n"
          ]
        }
      ]
    },
    {
      "cell_type": "markdown",
      "source": [
        "# Pairwise comparison\n",
        "\n",
        "* We need to compare all sentences from `encoded_texts1` with all sentences from `encoded_texts2`\n",
        "* We can use simple matrix multiplication to get all-against-all dot products, because that is exactly what matrix multiplication does\n",
        "* Note that the embeddings are normalized (we asked for it in the `.encode()` arguments), so dot product is the same as cosine similarity\n",
        "* This is efficient in the sense that it runs on GPU\n",
        "* For large data which would not fit in the GPU memory, we'd need to do something else\n",
        "\n",
        "![matrix multiplication](https://www.mcs.anl.gov/~itf/dbpp/text/img792.gif)"
      ],
      "metadata": {
        "id": "EiJSAYB_VRB_"
      }
    },
    {
      "cell_type": "code",
      "source": [
        "import torch\n",
        "\n",
        "sims=torch.mm(encoded_texts1, encoded_texts2.T)\n",
        "sims.shape"
      ],
      "metadata": {
        "colab": {
          "base_uri": "https://localhost:8080/"
        },
        "id": "FYZ7GQTpMrGF",
        "outputId": "afb9dfb7-24be-4fed-bf85-74ad2c5b1d9e"
      },
      "execution_count": 31,
      "outputs": [
        {
          "output_type": "execute_result",
          "data": {
            "text/plain": [
              "torch.Size([2474, 2474])"
            ]
          },
          "metadata": {},
          "execution_count": 31
        }
      ]
    },
    {
      "cell_type": "markdown",
      "source": [
        "## Most similar sentences\n",
        "\n",
        "* We have done this many times previously\n",
        "* To get the most similar pairs out of a matrix of similarities, we do `argsort()` or `argmax()` and pick the first one"
      ],
      "metadata": {
        "id": "nqoHChGfWKsF"
      }
    },
    {
      "cell_type": "code",
      "source": [
        "sims_sort = torch.argsort(sims, dim=-1, descending=True)"
      ],
      "metadata": {
        "id": "VZTjG2OyNm3U"
      },
      "execution_count": 32,
      "outputs": []
    },
    {
      "cell_type": "markdown",
      "source": [
        "* stop to think what you would expect the result to look like\n",
        "* we compare the similarity of \"left\" sentences to \"right\" sentences"
      ],
      "metadata": {
        "id": "YM_le91lXup8"
      }
    },
    {
      "cell_type": "code",
      "source": [
        "sims_sort[:100,0]"
      ],
      "metadata": {
        "colab": {
          "base_uri": "https://localhost:8080/"
        },
        "id": "1Q9iS8JMNuoE",
        "outputId": "bc92121f-0c4d-44bc-c209-835241a281c1"
      },
      "execution_count": 33,
      "outputs": [
        {
          "output_type": "execute_result",
          "data": {
            "text/plain": [
              "tensor([   0,    1,  536,    3,    4,    5,    6,    7,    8,    9,   10,   11,\n",
              "          12,   13,   14,   15,   16,   17,   18,   19,   20,   21,   22,   23,\n",
              "          24,   25,   26,   27,   28,   29,   30,   31, 1903,   33,   34,   35,\n",
              "          36,   37,   38,   39,  795,   41,   42,   43,   44,   45,   46,   47,\n",
              "          48,   49,   50,   51,   52,   53,   54,   55,   56,   57,   58,   59,\n",
              "          60,   61,   62,   63,   64,   65,   66,   67,   68,   69,   70,   71,\n",
              "          72,   73,   74,   75,   76,   77,   78, 2165,   80,   81,   82,   83,\n",
              "          84,   85,   86,   87,   88,   89,   90,   91,   92,   93,   94,   95,\n",
              "          96,   97,   98,   99], device='cuda:0')"
            ]
          },
          "metadata": {},
          "execution_count": 33
        }
      ]
    },
    {
      "cell_type": "code",
      "source": [
        "# let's inspect few pairs\n",
        "for i in range(100):\n",
        "    print(dataset[\"train\"][i][text_field+\"1\"])\n",
        "    j=int(sims_sort[i,0]) #this is the index of the corresponding sentence\n",
        "    print(dataset[\"train\"][j][text_field+\"2\"]) #\n",
        "    print(\"\\n---------------------\\n\")\n"
      ],
      "metadata": {
        "colab": {
          "base_uri": "https://localhost:8080/"
        },
        "id": "y5CUQzdXOKV-",
        "outputId": "e2a3de23-6b51-4cc3-fc5e-2df92e049d7f"
      },
      "execution_count": 34,
      "outputs": [
        {
          "output_type": "stream",
          "name": "stdout",
          "text": [
            "Amrozi accused his brother , whom he called \" the witness \" , of deliberately distorting his evidence .\n",
            "Referring to him as only \" the witness \" , Amrozi accused his brother of deliberately distorting his evidence .\n",
            "\n",
            "---------------------\n",
            "\n",
            "They had published an advertisement on the Internet on June 10 , offering the cargo for sale , he added .\n",
            "On June 10 , the ship 's owners had published an advertisement on the Internet , offering the explosives for sale .\n",
            "\n",
            "---------------------\n",
            "\n",
            "The stock rose $ 2.11 , or about 11 percent , to close Friday at $ 21.51 on the New York Stock Exchange .\n",
            "MONY shares rose 8.76 per cent to $ 31.90 in after-hours trading in New York .\n",
            "\n",
            "---------------------\n",
            "\n",
            "Revenue in the first quarter of the year dropped 15 percent from the same period a year earlier .\n",
            "With the scandal hanging over Stewart 's company , revenue the first quarter of the year dropped 15 percent from the same period a year earlier .\n",
            "\n",
            "---------------------\n",
            "\n",
            "The DVD-CCA then appealed to the state Supreme Court .\n",
            "The DVD CCA appealed that decision to the U.S. Supreme Court .\n",
            "\n",
            "---------------------\n",
            "\n",
            "But he added group performance would improve in the second half of the year and beyond .\n",
            "De Sole said in the results statement that group performance would improve in the second half of the year and beyond .\n",
            "\n",
            "---------------------\n",
            "\n",
            "He told The Sun newspaper that Mr. Hussein 's daughters had British schools and hospitals in mind when they decided to ask for asylum .\n",
            "\" Saddam 's daughters had British schools and hospitals in mind when they decided to ask for asylum -- especially the schools , \" he told The Sun .\n",
            "\n",
            "---------------------\n",
            "\n",
            "Sheena Young of Child , the national infertility support network , hoped the guidelines would lead to a more \" fair and equitable \" service for infertility sufferers .\n",
            "Sheena Young , a spokesman for Child , the national infertility support network , said the proposed guidelines should lead to a more \" fair and equitable \" service for infertility sufferers .\n",
            "\n",
            "---------------------\n",
            "\n",
            "The new Finder puts a user 's folders , hard drive , network servers , iDisk and removable media in one location , providing one-click access .\n",
            "Panther 's redesigned Finder navigation tool puts a user 's favourite folders , hard drive , network servers , iDisk and removable media in one location .\n",
            "\n",
            "---------------------\n",
            "\n",
            "But tropical storm warnings and watches were posted today for Haiti , western portions of the Dominican Republic , the southeastern Bahamas and the Turk and Caicos islands .\n",
            "Tropical storm warnings were in place Thursday for Jamaica and Haiti and watches for the western Dominican Republic , the southeastern Bahamas and the Turks and Caicos islands .\n",
            "\n",
            "---------------------\n",
            "\n",
            "A federal magistrate in Fort Lauderdale ordered him held without bail .\n",
            "Zuccarini was ordered held without bail Wednesday by a federal judge in Fort Lauderdale , Fla .\n",
            "\n",
            "---------------------\n",
            "\n",
            "Six months ago , the IMF and Argentina struck a bare-minimum $ 6.8-billion debt rollover deal that expires in August .\n",
            "But six months ago , the two sides managed to strike a $ 6.8-billion debt rollover deal , which expires in August .\n",
            "\n",
            "---------------------\n",
            "\n",
            "Inhibited children tend to be timid with new people , objects , and situations , while uninhibited children spontaneously approach them .\n",
            "Simply put , shy invividuals tend to be more timid with new people and situations .\n",
            "\n",
            "---------------------\n",
            "\n",
            "I wanted to bring the most beautiful people into the most beautiful building , he said Sunday inside the Grand Central concourse .\n",
            "\" I wanted to bring the most beautiful people into the most beautiful building , \" Tunick said Sunday .\n",
            "\n",
            "---------------------\n",
            "\n",
            "Singapore is already the United States ' 12th-largest trading partner , with two-way trade totaling more than $ 34 billion .\n",
            "Although a small city-state , Singapore is the 12th-largest trading partner of the United States , with trade volume of $ 33.4 billion last year .\n",
            "\n",
            "---------------------\n",
            "\n",
            "The largest gains were seen in prices , new orders , inventories and exports .\n",
            "Sub-indexes measuring prices , new orders , inventories and exports increased .\n",
            "\n",
            "---------------------\n",
            "\n",
            "Trading in Loral was halted yesterday ; the shares closed on Monday at $ 3.01 .\n",
            "The New York Stock Exchange suspended trading yesterday in Loral , which closed at $ 3.01 Friday .\n",
            "\n",
            "---------------------\n",
            "\n",
            "He plans to have dinner with troops at Kosovo 's U.S. military headquarters , Camp Bondsteel .\n",
            "After that , he plans to have dinner at Camp Bondsteel with U.S. troops stationed there .\n",
            "\n",
            "---------------------\n",
            "\n",
            "Retailers J.C. Penney Co . Inc . ( JCP ) and Walgreen Co . ( WAG ) kick things off on Monday .\n",
            "Retailers J.C. Penney Co . Inc . JCP.N and Walgreen Co . WAG.N kick things off on Monday .\n",
            "\n",
            "---------------------\n",
            "\n",
            "Prosecutors filed a motion informing Lee they intend to seek the death penalty .\n",
            "He added that prosecutors will seek the death penalty .\n",
            "\n",
            "---------------------\n",
            "\n",
            "Last year the court upheld Cleveland 's school voucher program , ruling 5-4 that vouchers are constitutional if they provide parents a choice of religious and secular schools .\n",
            "Last year , the court ruled 5-4 in an Ohio case that government vouchers are constitutional if they provide parents with choices among a range of religious and secular schools .\n",
            "\n",
            "---------------------\n",
            "\n",
            "Sorkin , who faces charges of conspiracy to obstruct justice and lying to a grand jury , was to have been tried separately .\n",
            "Sorkin was to have been tried separately on charges of conspiracy and lying to a grand jury .\n",
            "\n",
            "---------------------\n",
            "\n",
            "The US chip market is expected to decline 2.1 percent this year , then grow 15.7 percent in 2004 .\n",
            "The Americas market will decline 2.1 percent to $ 30.6 billion in 2003 , and then grow 15.7 percent to $ 35.4 billion in 2004 .\n",
            "\n",
            "---------------------\n",
            "\n",
            "The group will be headed by State Department official John S. Wolf , who has served in Australia , Vietnam , Greece and Pakistan .\n",
            "The group will be headed by John S. Wolf , an assistant secretary of state who has served in Australia , Vietnam , Greece and Pakistan .\n",
            "\n",
            "---------------------\n",
            "\n",
            "The company has said it plans to restate its earnings for 2000 through 2002 .\n",
            "The company had announced in January that it would have to restate earnings for 2002 , 2001 and perhaps 2000 .\n",
            "\n",
            "---------------------\n",
            "\n",
            "Results from No. 2 U.S. soft drink maker PepsiCo Inc . PEP.N were likely to be in the spotlight .\n",
            "Results from No. 2 U.S. soft drink maker PepsiCo Inc . ( nyse : PEP - news - people ) were likely to be in the spotlight .\n",
            "\n",
            "---------------------\n",
            "\n",
            "\" The result is an overall package that will provide significant economic growth for our employees over the next four years . \"\n",
            "\" The result is an overall package that will provide a significant economic growth for our employees over the next few years , \" he said .\n",
            "\n",
            "---------------------\n",
            "\n",
            "The songs are on offer for 99 cents each , or $ 9.99 for an album .\n",
            "The company will offer songs for 99 cents and albums for $ 9.95 .\n",
            "\n",
            "---------------------\n",
            "\n",
            "However , the talk was downplayed by PBL which said it would focus only on smaller purchases that were immediately earnings and cash flow accretive .\n",
            "The talk , however , has been downplayed by PBL which said it would focus only on smaller purchases that were immediately earnings and cash flow-accretive .\n",
            "\n",
            "---------------------\n",
            "\n",
            "Comcast Class A shares were up 8 cents at $ 30.50 in morning trading on the Nasdaq Stock Market .\n",
            "The stock rose 48 cents to $ 30 yesterday in Nasdaq Stock Market trading .\n",
            "\n",
            "---------------------\n",
            "\n",
            "The Washington Post said Airlite would shut down its first shift and parts of the second shift Monday to accommodate the president ’ s appearance .\n",
            "The plant plans to shut down its first shift and parts of the second shift Monday to accommodate the president 's appearance , Crosby said .\n",
            "\n",
            "---------------------\n",
            "\n",
            "Several of the questions asked by the audience in the fast-paced forum were new to the candidates .\n",
            "Several of the audience questions were new to the candidates as well .\n",
            "\n",
            "---------------------\n",
            "\n",
            "Meanwhile , the global death toll approached 770 with more than 8,300 people sickened since the severe acute respiratory syndrome virus first appeared in southern China in November .\n",
            "The global death toll is 770 with more than 8300 people sickened since the severe acute respiratory syndrome virus first appeared in southern China in November .\n",
            "\n",
            "---------------------\n",
            "\n",
            "Contrary to what PeopleSoft management would have you believe , Oracle intends to fully support PeopleSoft customers and products for many years to come . \"\n",
            "Ellison said that contrary to the contentions of PeopleSoft management , Oracle intends to \" fully support PeopleSoft customers and products \" for many years to come .\n",
            "\n",
            "---------------------\n",
            "\n",
            "The downtime , to take place in May and June , is expected to cut production by 60 million to 70 million board feet .\n",
            "The downtime is expected to take 60 million to 70 million board feet out of the companys system .\n",
            "\n",
            "---------------------\n",
            "\n",
            "On July 3 , Troy is expected to be sentenced to life in prison without parole .\n",
            "Troy faces life in prison without parole at his July 30 sentencing .\n",
            "\n",
            "---------------------\n",
            "\n",
            "The University of Michigan released a new undergraduate admission process Thursday , dropping a point system the U.S. Supreme Court found unconstitutional in June .\n",
            "The University of Michigan released today a new admissions policy after the U.S. Supreme Court struck down in June the way it previously admitted undergraduates .\n",
            "\n",
            "---------------------\n",
            "\n",
            "The processors were announced in San Jose at the Intel Developer Forum .\n",
            "The new processor was unveiled at the Intel Developer Forum 2003 in San Jose , Calif .\n",
            "\n",
            "---------------------\n",
            "\n",
            "It said the damage to the wing provided a pathway for hot gasses to penetrate the ship 's thermal armor during Columbia 's ill-fated reentry .\n",
            "The document says the damage to the wing provided a pathway for hot gases to penetrate Columbia 's thermal armour during its fatal re-entry .\n",
            "\n",
            "---------------------\n",
            "\n",
            "Also demonstrating box-office strength _ and getting seven Tony nominations _ was a potent revival of Eugene O 'Neill 's family drama , \" Long Day 's Journey Into Night . \"\n",
            "Also demonstrating box-office strength -- and getting seven Tony nominations -- was a potent revival of Eugene ONeills family drama , Long Days Journey Into Night . \"\n",
            "\n",
            "---------------------\n",
            "\n",
            "But Secretary of State Colin Powell brushed off this possibility Wednesday .\n",
            "But none of the ministers opposed Mr. Powell 's suggestion outright on Thursday , the ministers said .\n",
            "\n",
            "---------------------\n",
            "\n",
            "Thomas and Tauzin say , as do many doctors , that the Bush administration has the power to correct some of those flaws .\n",
            "Like many doctors , Mr. Thomas and Mr. Tauzin say the Bush administration has the power to correct some of those flaws .\n",
            "\n",
            "---------------------\n",
            "\n",
            "Based on experience elsewhere , it could take up to two years before regular elections are held , he added .\n",
            "U.S. military officials have said it could take up to two years before regular elections are held , based on experiences elsewhere in the world .\n",
            "\n",
            "---------------------\n",
            "\n",
            "The first biotechnology treatment for asthma , the constriction of the airways that affects millions around the world , received approval from the US Food and Drug Administration yesterday .\n",
            "The first biotechnology treatment for asthma , the constriction of the airways that affects millions of Americans , received approval from the U.S. Food and Drug Administration on Friday .\n",
            "\n",
            "---------------------\n",
            "\n",
            "FBI agents arrested a former partner of Big Four accounting firm Ernst & Young ERNY.UL on criminal charges of obstructing federal investigations , U.S. officials said on Thursday .\n",
            "A former partner of accountancy firm Ernst & Young was yesterday arrested by FBI agents in the US on charges of obstructing federal investigations .\n",
            "\n",
            "---------------------\n",
            "\n",
            "The latest shooting linked to the spree was a November 11 shooting at Hamilton Central Elementary School in Obetz , about 3km from the freeway .\n",
            "Another shooting linked to the spree occurred Nov. 11 at Hamilton Central Elementary in Obetz , about two miles from the freeway .\n",
            "\n",
            "---------------------\n",
            "\n",
            "PDC will also almost certainly fan the flames of speculation about Longhorn 's release .\n",
            "PDC will also almost certainly reignite speculation about release dates of Microsoft 's new products .\n",
            "\n",
            "---------------------\n",
            "\n",
            "Sales - a figure watched closely as a barometer of its health - rose 5 percent instead of falling as many industry experts had predicted .\n",
            "It also disclosed that sales -- a figure closely watched by analysts as a barometer of its health -- were significantly higher than industry experts expected .\n",
            "\n",
            "---------------------\n",
            "\n",
            "NEC is pitching its wireless gear and management software to a variety of industries , including health care and hospitality .\n",
            "NEC 's pitching its wireless gear and management software to a variety of industries , including healthcare and hospitality , a company spokesman said .\n",
            "\n",
            "---------------------\n",
            "\n",
            "Elena Slough , considered to be the nation 's oldest person and the third oldest person in the world , died early Sunday morning .\n",
            "ELENA Slough , considered to be the oldest person in the US and the third oldest person in the world , has died .\n",
            "\n",
            "---------------------\n",
            "\n",
            "\" We are declaring war on sexual harassment and sexual assault .\n",
            "\" We have declared war on sexual assault and sexual harassment , \" Rosa said .\n",
            "\n",
            "---------------------\n",
            "\n",
            "El Watan , an Algerian newspaper , reported that the kidnappers fiercely resisted the army assault this morning , firing Kalashnikov rifles .\n",
            "El Watan , an Algerian newspaper , reported that the kidnappers put up fierce resistance during the army assault , firing Kalashnikov rifles .\n",
            "\n",
            "---------------------\n",
            "\n",
            "Shares of Hartford rose $ 2.88 to $ 46.50 in New York Stock Exchange composite trading .\n",
            "Shares of Hartford were up $ 2.28 , or 5.2 percent , to $ 45.90 in midday trading .\n",
            "\n",
            "---------------------\n",
            "\n",
            "Tokyo Electric Power Co . , Asia 's largest power company , won approval to restart the first of 17 nuclear reactors it shut down after it admitted falsifying inspection reports .\n",
            "Tokyo Electric Power Co . , Asia 's largest power company , restarted the first of 17 nuclear reactors it shut down after admitting it falsified inspection reports .\n",
            "\n",
            "---------------------\n",
            "\n",
            "Tuition at four-year private colleges averaged $ 19,710 this year , up 6 percent from 2002 .\n",
            "For the current academic year , tuition at public colleges averaged $ 4,694 , up almost $ 600 from the year before .\n",
            "\n",
            "---------------------\n",
            "\n",
            "He said that with the U.S.-backed peace plan , or road map , “ in a coma , ” the attack could easily widen conflict through the region .\n",
            "Mr Jouejati said that with the US-backed road map \" in a coma \" the attack could easily widen through the region .\n",
            "\n",
            "---------------------\n",
            "\n",
            "A successful attack could be launched within any type of document that supports VBA , including Microsoft Word , Excel or PowerPoint .\n",
            "But this could happen with any document format that supports VBA , including Word , Excel or PowerPoint .\n",
            "\n",
            "---------------------\n",
            "\n",
            "Officials at Brandeis said this was an \" extremely heartrending \" time for the campus .\n",
            "\" This is an extremely heartrending time for the entire Brandeis University community .\n",
            "\n",
            "---------------------\n",
            "\n",
            "Fewer than a dozen FBI agents were dispatched to secure and analyze evidence .\n",
            "Fewer than a dozen FBI agents will be sent to Iraq to secure and analyze evidence of the bombing .\n",
            "\n",
            "---------------------\n",
            "\n",
            "Those who only had surgery lived an average of 46 months .\n",
            "For those who got surgery alone , median survival was 41 months .\n",
            "\n",
            "---------------------\n",
            "\n",
            "Tonight a spokesman for Russia 's foreign ministry said the ministry may issue a statement on Thursday clarifying Russia 's position on cooperation with Iran 's nuclear-energy efforts .\n",
            "Tonight a spokesman for the Russian Foreign Ministry said it might issue a statement on Thursday clarifying Russia 's position on aiding Iran 's nuclear-energy efforts .\n",
            "\n",
            "---------------------\n",
            "\n",
            "A day earlier , a committee appointed by reformist President Mohammad Khatami called for an independent judicial inquiry into Kazemi 's death .\n",
            "A day earlier , a committee appointed by President Mohammad Khatami had called for an independent inquiry into the 54-year-old photojournalist 's death .\n",
            "\n",
            "---------------------\n",
            "\n",
            "The suite comes complete with a word processor , spreadsheet , presentation software and other components , while continuing its tradition of utilizing an XML-based file format .\n",
            "The suite includes a word processor , spreadsheet , presentation application ( analogous to PowerPoint ) , and other components -- all built around the XML file format .\n",
            "\n",
            "---------------------\n",
            "\n",
            "Downstream at Mount Vernon , the Skagit River was expected to crest at 36 feet -- 8 feet above flood stage -- tonight , Burke said .\n",
            "The Skagit was expected to crest during the night at 38 feet at Mount Vernon , 10 feet above flood stage , the National Weather Service said .\n",
            "\n",
            "---------------------\n",
            "\n",
            "Physicians who violate the ban would be subject to fines and up to two years in prison .\n",
            "Physicians who perform the procedure would face up to two years in prison , under the bill .\n",
            "\n",
            "---------------------\n",
            "\n",
            "For example , Anhalt said , children typically treat a 20-ounce soda bottle as one serving , although it actually contains 2 ½ 8-ounce servings .\n",
            "Anhalt said children typically treat a 20-ounce soda bottle as one serving , while it actually contains 2.5 .\n",
            "\n",
            "---------------------\n",
            "\n",
            "Kline 's opinion dealt specifically with abortion providers , but it also would apply to doctors providing other services , such as prenatal care , to a pregnant child under 16 .\n",
            "Kline 's opinion dealt specifically with abortion providers , but later his office said it also would apply to doctors providing services such as prenatal care to pregnant girls under 16 .\n",
            "\n",
            "---------------------\n",
            "\n",
            "The United Nations ' International Atomic Energy Agency asked for information on the allegation after the dossier was published , but Britain did not provide any , U.N. officials said .\n",
            "The International Atomic Energy Agency asked for information on the uranium assertions after London 's dossier was published , but Britain did not provide any , U.N. officials said .\n",
            "\n",
            "---------------------\n",
            "\n",
            "Sixteen days later , as superheated air from the shuttle 's reentry rushed into the damaged wing , \" there was no possibility for crew survival , \" the board said .\n",
            "Sixteen days later , as superheated air from the shuttle ’ s re-entry rushed into the damaged wing , ‘ ‘ there was no possibility for crew survival , ’ ’ the board said .\n",
            "\n",
            "---------------------\n",
            "\n",
            "\" The free world and those who love freedom and peace must deal harshly with Hamas and the killers , \" he told reporters as he emerged from a church service .\n",
            "\" It is clear that the free world , those who love freedom and peace , must deal harshly with Hamas and the killers , \" he said .\n",
            "\n",
            "---------------------\n",
            "\n",
            "Powell fired back : \" He 's accusing the president of a ludicrous act , \" he said .\n",
            "If so , Powell said , he 's calling the president ludicrous , too .\n",
            "\n",
            "---------------------\n",
            "\n",
            "The memo on protecting sales of Windows and other desktop software mentioned Linux , a still small but emerging software competitor that is not owned by any specific company .\n",
            "The memo specifically mentioned Linux , a still small but emerging software competitor that is not owned by any specific company .\n",
            "\n",
            "---------------------\n",
            "\n",
            "Also Tuesday , the United States also released more Iraqi prisoners of war , and officials announced that all would soon be let go .\n",
            "Meanwhile in southern Iraq , the United States released more Iraqi prisoners of war , and officials announced that all would be let go soon .\n",
            "\n",
            "---------------------\n",
            "\n",
            "\" We had nothing to do with @ Stake 's internal personnel decision , \" Microsoft spokesman Sean Sundwell said .\n",
            "\" Microsoft had absolutely nothing to do with AtStake 's internal personnel decision , \" Sundwall said .\n",
            "\n",
            "---------------------\n",
            "\n",
            "Prosecutors said there is no question Waagner was behind the letters , which were sent at the same time of the anthrax attacks .\n",
            "Prosecutors said there is no question Waagner was behind the letters , which were sent at the same time that real anthrax attacks were killing people in 2001 .\n",
            "\n",
            "---------------------\n",
            "\n",
            "His plan would cost more than $ 200 billion annually , which Gephardt would pay for by repealing Bush 's tax cuts .\n",
            "His plan would cost over $ 200 billion annually and be paid for by repealing Bush 's tax cuts .\n",
            "\n",
            "---------------------\n",
            "\n",
            "There had been fears that the 35 year-old wouldn 't be able to conceive after suffering two ectopic pregnancies and cancer of the uterus .\n",
            "There were fears that Heather would never have children after suffering two ectopic pregnancies and cancer of the uterus .\n",
            "\n",
            "---------------------\n",
            "\n",
            "Prosecutors said Paracha , if convicted , could face at least 17 years in prison .\n",
            "Paracha faces at least 17 years in prison if convicted .\n",
            "\n",
            "---------------------\n",
            "\n",
            "More than half of the songs were purchased as albums , Apple said .\n",
            "Apple noted that half the songs were purchased as part of albums .\n",
            "\n",
            "---------------------\n",
            "\n",
            "\" This deal makes sense for both companies , \" Halla said in a prepared statement .\n",
            "\" This deal makes sense for both companies , \" Halla said in a prepared statement .\n",
            "\n",
            "---------------------\n",
            "\n",
            "Smugglers in a van chased down a pickup and SUV carrying other smugglers and illegal immigrants , said Pinal County Sheriff Roger Vanderpool .\n",
            "People in a van opened fire on a pickup and SUV believed to be transporting illegal immigrants , said Pinal County Sheriff Roger Vanderpool .\n",
            "\n",
            "---------------------\n",
            "\n",
            "Tyco later said the loan had not been forgiven , and Swartz repaid it in full , with interest , according to his lawyer , Charles Stillman .\n",
            "Tyco has said the loan was not forgiven , but that Swartz fully repaid it with interest , according to his lawyer , Charles Stillman .\n",
            "\n",
            "---------------------\n",
            "\n",
            "While Bolton apparently fell and was immobilized , Selenski used the mattress to scale a 10-foot , razor-wire fence , Fischi said .\n",
            "After the other inmate fell , Selenski used the mattress to scale a 10-foot , razor-wire fence , Fischi said .\n",
            "\n",
            "---------------------\n",
            "\n",
            "Ms. Haque , meanwhile , was on her turquoise cellphone with the smiley faces organizing the prom .\n",
            "Fatima , meanwhile , was on her turquoise cell phone organizing the prom .\n",
            "\n",
            "---------------------\n",
            "\n",
            "But he added that the New York-based actor and producer is \" a private person and doesn 't care to have his treatment out for public consumption . \"\n",
            "But he added that De Niro is \" a private person and doesn 't care to have his treatment out for public consumption . \"\n",
            "\n",
            "---------------------\n",
            "\n",
            "While a month 's supply of aspirin can cost less than $ 10 , the equivalent amount of ticlopidine can run significantly more than $ 100 .\n",
            "While a month 's supply of aspirin can cost under $ 10 , the equivalent amount of ticlopidine can run well over $ 100 .\n",
            "\n",
            "---------------------\n",
            "\n",
            "She estimated it would take three months and would require cancellation of a sub-audit of the Department of Environmental Quality .\n",
            "She said it would take an estimated three months to conduct and require the cancellation of a sub-audit of the Department of Environmental Quality .\n",
            "\n",
            "---------------------\n",
            "\n",
            "The virus kills roughly 36,000 people in an average year , according to the U.S. Centers for Disease Control and Prevention .\n",
            "Complications from flu kill roughly 36,000 Americans in an average year , according to the U.S. Centers for Disease Control and Prevention .\n",
            "\n",
            "---------------------\n",
            "\n",
            "In two new schemes , people posing as IRS representatives target families of armed forces members and e-mail users .\n",
            "Two new schemes target families of those serving in the military and e-mail users .\n",
            "\n",
            "---------------------\n",
            "\n",
            "Miss Novikova said while there is no standard weight for ballerinas , Miss Volochkova is ' bigger than others ' .\n",
            "Commenting on the firing today , Ms. Novikova said that there was no standard weight for ballerinas but that Ms. Volochkova \" is bigger than others . \"\n",
            "\n",
            "---------------------\n",
            "\n",
            "Both have aired videotapes of ex-president Saddam Hussein encouraging Iraqis to fight the U.S. occupation of Iraq .\n",
            "Both have aired videotapes apparently from deposed Iraqi President Saddam Hussein , encouraging Iraqis to fight the U.S. occupation .\n",
            "\n",
            "---------------------\n",
            "\n",
            "Under the program , U.S. officials work with foreign port authorities to identify , target and search high-risk cargo .\n",
            "Under the program , US officials work with foreign port authorities to seek out high-risk cargo before it can reach the United States .\n",
            "\n",
            "---------------------\n",
            "\n",
            "And if we don 't do this , innocent people on the ground are going to die , too . \"\n",
            "Crews are told : \" If we don 't do this , innocent people on the ground are going to die \" , he said .\n",
            "\n",
            "---------------------\n",
            "\n",
            "\" It 's probably not the easiest time to take over the shuttle program , \" he added , \" but I look forward to the challenge .\n",
            "\" It is probably not the easiest time to come in and take over the shuttle program , but then again , I look forward to the challenge , \" he said .\n",
            "\n",
            "---------------------\n",
            "\n",
            "As a result , Nelson now faces up to 10 years ' jail instead of life .\n",
            "The verdict means Nelson faces up to 10 years in prison rather than a possible life sentence .\n",
            "\n",
            "---------------------\n",
            "\n",
            "With all precincts reporting , Fletcher — a three-term congressman from Lexington — had an overwhelming 57 percent of the vote .\n",
            "With all precincts reporting , Fletcher had 88,747 votes , or 57 percent of the total .\n",
            "\n",
            "---------------------\n",
            "\n",
            "Shadrin said Khodorkovsky 's aircraft was approached by officers identifying themselves as members of the FSB intelligence service , the domestic successor to the Soviet KGB .\n",
            "Shadrin said Khodorkovsky 's aircraft was approached by officers identifying themselves as members of the FSB domestic intelligence service .\n",
            "\n",
            "---------------------\n",
            "\n",
            "She claimed all the babies were born full-term and died within hours , he said .\n",
            "\" What she told our investigators was that all the babies were born full-term and then died within hours , \" Hughes said .\n",
            "\n",
            "---------------------\n",
            "\n",
            "French Foreign Minister Dominique de Villepin was scheduled to arrive Sharm el-Sheikh on Wednesday .\n",
            "The French Foreign Minister , Dominique de Villepin , is also expected to attend .\n",
            "\n",
            "---------------------\n",
            "\n",
            "They believe the same is true in humans , giving a 30 per cent higher risk of the disease .\n",
            "The researchers believe the same is true in humans , translating to a 30 per cent greater risk of the disease .\n",
            "\n",
            "---------------------\n",
            "\n"
          ]
        }
      ]
    }
  ]
}