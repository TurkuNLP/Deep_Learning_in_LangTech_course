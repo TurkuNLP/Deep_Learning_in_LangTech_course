{
  "cells": [
    {
      "cell_type": "markdown",
      "metadata": {
        "id": "view-in-github",
        "colab_type": "text"
      },
      "source": [
        "<a href=\"https://colab.research.google.com/github/TurkuNLP/Deep_Learning_in_LangTech_course/blob/master/dl_in_hlt_project_template.ipynb\" target=\"_parent\"><img src=\"https://colab.research.google.com/assets/colab-badge.svg\" alt=\"Open In Colab\"/></a>"
      ]
    },
    {
      "cell_type": "markdown",
      "metadata": {
        "id": "3mvdzdpexOZu"
      },
      "source": [
        "# Introduction\n",
        "\n",
        "This notebook is the template for the **Deep Learning in Human Language Technology** course project. The use of this template or a notebook with similar structure is recommended for your projects."
      ]
    },
    {
      "cell_type": "markdown",
      "metadata": {
        "id": "myI5V0pIkycD"
      },
      "source": [
        "## Contributions\n",
        "\n",
        "List all of the members of the group contributing to this project and briefly describe the contributions of each to this project here:\n",
        "\n",
        "* Names:\n",
        "* Contributions: "
      ]
    },
    {
      "cell_type": "markdown",
      "metadata": {
        "id": "6gKmrRKLkycF"
      },
      "source": [
        "---"
      ]
    },
    {
      "cell_type": "markdown",
      "metadata": {
        "id": "DNZ3yCmG1z7s"
      },
      "source": [
        "## Named Entity Recognition\n",
        "\n",
        "Provide a Python implementation that loads a pre-trained model and fine-tunes it for Named Entity Recognition in the language of your choice (Finnish or English). We suggest the use of the following models and Named Entity Recognition corpora:\n",
        "\n",
        "* English model: [bert-base-cased](https://huggingface.co/bert-base-cased)\n",
        "* English corpus: [conll2003](https://huggingface.co/datasets/conll2003)\n",
        "* Finnish model: [bert-base-finnish-cased-v1](https://huggingface.co/TurkuNLP/bert-base-finnish-cased-v1)\n",
        "* Finnish corpus: [turku_ner_corpus](https://huggingface.co/datasets/turku_ner_corpus)\n",
        "\n",
        "You are however free to use any model and corpus of interest e.g. from the Hugging Face [models](https://huggingface.co/models) and [datasets](https://huggingface.co/datasets) repositories, and we encourage experimentation!\n",
        "\n",
        "(This sub-assignment corresponds largely to the material covered in the \"Applying Transformers to sequence labeling tasks\" demo. You are free to use these materials, but please include some contribution of your own, e.g. exploration of the effects of different hyperparameters.)"
      ]
    },
    {
      "cell_type": "code",
      "execution_count": null,
      "metadata": {
        "id": "PuYaWdzhb485"
      },
      "outputs": [],
      "source": [
        "# Your code for named entity recognition goes here, divided to as many cells as you like."
      ]
    },
    {
      "cell_type": "markdown",
      "metadata": {
        "id": "kdO-8xefkycL"
      },
      "source": [
        "#### (your description for named entity recognition goes here. Please clearly include the results of evaluating your method in terms of overall F-score.)"
      ]
    },
    {
      "cell_type": "markdown",
      "metadata": {
        "id": "PhBX15l6kycM"
      },
      "source": [
        "---"
      ]
    },
    {
      "cell_type": "markdown",
      "metadata": {
        "id": "3Cih6uO0kycN"
      },
      "source": [
        "## Sentiment target classification\n",
        "\n",
        "Provide a Python implementation that loads a pre-trained model and fine-tunes it for sentiment target classification in the language of your choice (Finnish or English). Please use the annotated data prepared on the course:\n",
        "\n",
        "* [English sentiment target annotation corpus](https://raw.githubusercontent.com/TurkuNLP/sentiment-target-corpus/main/sentiment-target-fi.tsv)\n",
        "* [Finnish sentiment target annotation corpus](https://raw.githubusercontent.com/TurkuNLP/sentiment-target-corpus/main/sentiment-target-fi.tsv)\n",
        "\n",
        "For the choice of the pre-trained model, we suggest the same options as above for Named Entity Recognition.\n",
        "\n",
        "(**Please note** that this should by default be a separate model from the Named Entity Recognition model that you trained above.)\n",
        "\n",
        "(This sub-assignment corresponds largely to the \"Example notebook for sentiment target classification with BERT\" covered in demos. You are free to use these materials, but please include some contribution of your own, e.g. exploration of the effects of different hyperparameters.)"
      ]
    },
    {
      "cell_type": "code",
      "execution_count": null,
      "metadata": {
        "id": "7Q7eNmGokycO"
      },
      "outputs": [],
      "source": [
        "# Your code for sentiment target classification goes here, divided to as many cells as you like."
      ]
    },
    {
      "cell_type": "markdown",
      "metadata": {
        "id": "ziHXJ9imkycO"
      },
      "source": [
        "#### (your description for sentiment target classification goes here. Please clearly include the results of evaluating your method in terms of accuracy.)"
      ]
    },
    {
      "cell_type": "markdown",
      "metadata": {
        "id": "I6Qcc8WikycP"
      },
      "source": [
        "---"
      ]
    },
    {
      "cell_type": "markdown",
      "source": [
        "## Combining the two models\n",
        "\n",
        "Provide a python implementation that\n",
        "\n",
        "1. takes unannotated text as input,\n",
        "2. uses your trained named entity recognition model to identify names,\n",
        "3. (optionally) filters recognized named entities by type (e.g. removing `DATE` mentions),\n",
        "4. for each named entity mention, creates an example where the mention is marked with `<TARGET>...</TARGET>` tags, and\n",
        "5. uses your sentiment target model to classify each of these examples\n",
        "\n",
        "Demonstrate the use of your combined system either with some example sentences of your own or sentences drawn from the large-scale data (see below). Does the system perform as intended? Can you find some cases where the system fails?"
      ],
      "metadata": {
        "id": "iIHzWAbEslrr"
      }
    },
    {
      "cell_type": "code",
      "source": [
        "# Your code for combining the two models goes here, divided to as many cells as you like."
      ],
      "metadata": {
        "id": "Jq9DvdE8vHfi"
      },
      "execution_count": 1,
      "outputs": []
    },
    {
      "cell_type": "markdown",
      "source": [
        "(your description for combining the two models goes here.)"
      ],
      "metadata": {
        "id": "PKwQmlP9vNHY"
      }
    },
    {
      "cell_type": "markdown",
      "metadata": {
        "id": "EJgwlHOYvdtW"
      },
      "source": [
        "## Large-scale application (Optional)\n",
        "\n",
        "Provide a Python implementation running your combined system on a large set of data in the language of your choice (to be provided shortly) to recognize named entity mentions and predict the sentiment expressed toward these mentions.\n",
        "\n",
        "Analyze the results statistically: What are the most frequently mentioned named entities? Which named entities are most commonly the targets of negative and positive sentiment? "
      ]
    },
    {
      "cell_type": "code",
      "execution_count": 2,
      "metadata": {
        "id": "k0fRtIeOHIuB"
      },
      "outputs": [],
      "source": [
        "# Your code for large-scale application goes here, divided to as many cells as you like."
      ]
    },
    {
      "cell_type": "markdown",
      "metadata": {
        "id": "WXp8SfC0kycQ"
      },
      "source": [
        "#### (your description for large-scale application goes here.)"
      ]
    },
    {
      "cell_type": "markdown",
      "metadata": {
        "id": "mb47GSKrEOdL"
      },
      "source": [
        "## Submission information\n",
        "\n",
        "**Please submit a .ipynb version of the notebook to Moodle.** (**NOTE:** not PDF.). Please check that the submission is of reasonable quality representing your effort, e.g. that all the cells are executed, their outputs are visible, and re-executing the cells works and produces comparable results (within expected random variation)."
      ]
    }
  ],
  "metadata": {
    "colab": {
      "collapsed_sections": [],
      "name": "dl-in-hlt-project-template.ipynb",
      "provenance": [],
      "include_colab_link": true
    },
    "kernelspec": {
      "display_name": "Python 3 (ipykernel)",
      "language": "python",
      "name": "python3"
    },
    "language_info": {
      "codemirror_mode": {
        "name": "ipython",
        "version": 3
      },
      "file_extension": ".py",
      "mimetype": "text/x-python",
      "name": "python",
      "nbconvert_exporter": "python",
      "pygments_lexer": "ipython3",
      "version": "3.9.7"
    }
  },
  "nbformat": 4,
  "nbformat_minor": 0
}