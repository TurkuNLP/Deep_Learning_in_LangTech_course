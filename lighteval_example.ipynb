{
  "nbformat": 4,
  "nbformat_minor": 0,
  "metadata": {
    "colab": {
      "provenance": [],
      "gpuType": "T4",
      "authorship_tag": "ABX9TyOTkA96RZEZZl87Sl8T7W31",
      "include_colab_link": true
    },
    "kernelspec": {
      "name": "python3",
      "display_name": "Python 3"
    },
    "language_info": {
      "name": "python"
    },
    "accelerator": "GPU"
  },
  "cells": [
    {
      "cell_type": "markdown",
      "metadata": {
        "id": "view-in-github",
        "colab_type": "text"
      },
      "source": [
        "<a href=\"https://colab.research.google.com/github/TurkuNLP/Deep_Learning_in_LangTech_course/blob/master/lighteval_example.ipynb\" target=\"_parent\"><img src=\"https://colab.research.google.com/assets/colab-badge.svg\" alt=\"Open In Colab\"/></a>"
      ]
    },
    {
      "cell_type": "markdown",
      "source": [
        "## Lighteval example\n",
        "\n",
        "Install the [`lighteval`](https://github.com/huggingface/lighteval) package."
      ],
      "metadata": {
        "id": "kafzPuEgw95d"
      }
    },
    {
      "cell_type": "code",
      "execution_count": null,
      "metadata": {
        "id": "SYUoPrpwbc-S"
      },
      "outputs": [],
      "source": [
        "!pip install --quiet lighteval emoji"
      ]
    },
    {
      "cell_type": "markdown",
      "source": [
        "Run evaluation using the small [`gpt2`](https://huggingface.co/gpt2) model and the [ARC challenge](https://paperswithcode.com/dataset/arc) task in a zero-shot setting.\n",
        "\n",
        "The format of the `--tasks` argument is\n",
        "\n",
        "```suite|task|few_shot|truncate_few_shots```\n",
        "\n",
        "Where supported `suite|task` values are given in the [list of available tasks](https://github.com/huggingface/lighteval/wiki/Available-Tasks), and `few_shot` specifies the number of shots for few-shot prompting. (The argument `truncate_few_shots` can be ignored here).\n",
        "\n",
        "The evaluation result for the accuracy metric can be found toward the end of the output on the `leaderboard:arc:challenge:0 ... acc` line as well as in a JSON file in the `evals` directory after execution."
      ],
      "metadata": {
        "id": "2JhGAt77yAMN"
      }
    },
    {
      "cell_type": "code",
      "source": [
        "!lighteval accelerate \\\n",
        "    \"pretrained=gpt2,batch_size=1\" \\\n",
        "    \"leaderboard|arc:challenge|0|0\" \\\n",
        "    --output_dir=\"./evals/\""
      ],
      "metadata": {
        "id": "00ZWF1MZbiug"
      },
      "execution_count": null,
      "outputs": []
    }
  ]
}
