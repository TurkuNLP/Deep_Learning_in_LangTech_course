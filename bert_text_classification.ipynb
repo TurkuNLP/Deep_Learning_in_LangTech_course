{
  "nbformat": 4,
  "nbformat_minor": 0,
  "metadata": {
    "kernelspec": {
      "display_name": "Python 3",
      "language": "python",
      "name": "python3"
    },
    "language_info": {
      "codemirror_mode": {
        "name": "ipython",
        "version": 3
      },
      "file_extension": ".py",
      "mimetype": "text/x-python",
      "name": "python",
      "nbconvert_exporter": "python",
      "pygments_lexer": "ipython3",
      "version": "3.7.6"
    },
    "colab": {
      "name": "bert_text_classification.ipynb",
      "provenance": [],
      "include_colab_link": true
    }
  },
  "cells": [
    {
      "cell_type": "markdown",
      "metadata": {
        "id": "view-in-github",
        "colab_type": "text"
      },
      "source": [
        "<a href=\"https://colab.research.google.com/github/TurkuNLP/Deep_Learning_in_LangTech_course/blob/master/bert_text_classification.ipynb\" target=\"_parent\"><img src=\"https://colab.research.google.com/assets/colab-badge.svg\" alt=\"Open In Colab\"/></a>"
      ]
    },
    {
      "cell_type": "markdown",
      "metadata": {
        "id": "2KiiaDvGELay"
      },
      "source": [
        "# Text classification with BERT\n",
        "\n",
        "This notebook briefly demonstrates fine-tuning a pretrained BERT model to a text classification task.\n",
        "\n",
        "You probably want to run this notebook with GPU acceleration, as fine-tuning BERT on CPU can be fairly slow even with a comparatively small dataset."
      ]
    },
    {
      "cell_type": "markdown",
      "metadata": {
        "id": "VbLYhNpSELa7"
      },
      "source": [
        "## Configuration\n",
        "\n",
        "The following variables configure a few aspects of the data, model, and training process. To adapt this example to a different dataset, you'll probably want to change these to match.\n",
        "\n",
        "Note in particular that we're limiting the number of examples and the maximum sequence length to make training faster. \n",
        "\n",
        "When running on GPU, it's also necessary to make sure that the input length and batch size are not so large as to cause a batch to exceed GPU memory. If you're getting a message like `Resource exhausted: OOM when allocating tensor`, try smaller numbers for these."
      ]
    },
    {
      "cell_type": "code",
      "metadata": {
        "id": "PJRXYM58ELa8"
      },
      "source": [
        "# Maximum number of examples to read\n",
        "MAX_EXAMPLES = 1000\n",
        "\n",
        "# Maximum length of input sequence in tokens\n",
        "INPUT_LENGTH = 250\n",
        "\n",
        "# Number of epochs to train for\n",
        "EPOCHS = 3\n",
        "\n",
        "# Optimizer learning rate\n",
        "LEARNING_RATE = 0.00002\n",
        "\n",
        "# Training batch size\n",
        "BATCH_SIZE = 8"
      ],
      "execution_count": null,
      "outputs": []
    },
    {
      "cell_type": "markdown",
      "metadata": {
        "id": "qlOi4EtdELa8"
      },
      "source": [
        "## Package setup\n",
        "\n",
        "We'll use [keras-bert](https://github.com/CyberZHG/keras-bert). Make sure the package is installed. (`pip` is the Python [package installer](https://pip.pypa.io/en/stable/))"
      ]
    },
    {
      "cell_type": "code",
      "metadata": {
        "id": "eg8Y85ztELa9",
        "outputId": "5c99bf08-2040-4891-c8bc-08b04d6f6552"
      },
      "source": [
        "!pip3 install keras-bert"
      ],
      "execution_count": null,
      "outputs": [
        {
          "output_type": "stream",
          "text": [
            "Requirement already satisfied: keras-bert in /Users/smp/Library/Python/3.7/lib/python/site-packages (0.81.0)\n",
            "Requirement already satisfied: numpy in /Users/smp/Library/Python/3.7/lib/python/site-packages (from keras-bert) (1.18.1)\n",
            "Requirement already satisfied: Keras in /Users/smp/Library/Python/3.7/lib/python/site-packages (from keras-bert) (2.3.1)\n",
            "Requirement already satisfied: keras-transformer>=0.30.0 in /Users/smp/Library/Python/3.7/lib/python/site-packages (from keras-bert) (0.32.0)\n",
            "Requirement already satisfied: scipy>=0.14 in /Users/smp/Library/Python/3.7/lib/python/site-packages (from Keras->keras-bert) (1.4.1)\n",
            "Requirement already satisfied: six>=1.9.0 in /Users/smp/Library/Python/3.7/lib/python/site-packages (from Keras->keras-bert) (1.14.0)\n",
            "Requirement already satisfied: h5py in /Users/smp/Library/Python/3.7/lib/python/site-packages (from Keras->keras-bert) (2.10.0)\n",
            "Requirement already satisfied: keras-preprocessing>=1.0.5 in /Users/smp/Library/Python/3.7/lib/python/site-packages (from Keras->keras-bert) (1.1.0)\n",
            "Requirement already satisfied: pyyaml in /Users/smp/Library/Python/3.7/lib/python/site-packages (from Keras->keras-bert) (5.3)\n",
            "Requirement already satisfied: keras-applications>=1.0.6 in /Users/smp/Library/Python/3.7/lib/python/site-packages (from Keras->keras-bert) (1.0.8)\n",
            "Requirement already satisfied: keras-multi-head>=0.22.0 in /Users/smp/Library/Python/3.7/lib/python/site-packages (from keras-transformer>=0.30.0->keras-bert) (0.22.0)\n",
            "Requirement already satisfied: keras-layer-normalization>=0.12.0 in /Users/smp/Library/Python/3.7/lib/python/site-packages (from keras-transformer>=0.30.0->keras-bert) (0.14.0)\n",
            "Requirement already satisfied: keras-position-wise-feed-forward>=0.5.0 in /Users/smp/Library/Python/3.7/lib/python/site-packages (from keras-transformer>=0.30.0->keras-bert) (0.6.0)\n",
            "Requirement already satisfied: keras-embed-sim>=0.7.0 in /Users/smp/Library/Python/3.7/lib/python/site-packages (from keras-transformer>=0.30.0->keras-bert) (0.7.0)\n",
            "Requirement already satisfied: keras-pos-embd>=0.10.0 in /Users/smp/Library/Python/3.7/lib/python/site-packages (from keras-transformer>=0.30.0->keras-bert) (0.11.0)\n",
            "Requirement already satisfied: keras-self-attention==0.41.0 in /Users/smp/Library/Python/3.7/lib/python/site-packages (from keras-multi-head>=0.22.0->keras-transformer>=0.30.0->keras-bert) (0.41.0)\n"
          ],
          "name": "stdout"
        }
      ]
    },
    {
      "cell_type": "markdown",
      "metadata": {
        "id": "XquhckmWELa_"
      },
      "source": [
        "## Tensorflow configuration\n",
        "\n",
        "We'll need set an environment variable for keras-bert to use `tensorflow.python.keras`. (This is a technical detail that is not related to the model.)"
      ]
    },
    {
      "cell_type": "code",
      "metadata": {
        "id": "J4XwkVZwELa_"
      },
      "source": [
        "import os\n",
        "\n",
        "\n",
        "os.environ['TF_KERAS'] = '1'    # Required to use tensorflow.python.keras with keras-bert"
      ],
      "execution_count": null,
      "outputs": []
    },
    {
      "cell_type": "markdown",
      "metadata": {
        "id": "zJtvfHCjELbB"
      },
      "source": [
        "## Download dataset\n",
        "\n",
        "We'll use the IMDB dataset in JSON format. (This should be familiar to you from previous notebooks in this course.)"
      ]
    },
    {
      "cell_type": "code",
      "metadata": {
        "id": "VQO35xRqELbD",
        "outputId": "87f6af56-a3be-4d62-8b76-ba6def8cd0f4"
      },
      "source": [
        "# Give -nc (--no-clobber) argument so that the file isn't downloaded multiple times \n",
        "!wget -nc https://raw.githubusercontent.com/TurkuNLP/Deep_Learning_in_LangTech_course/master/data/imdb_train.json"
      ],
      "execution_count": null,
      "outputs": [
        {
          "output_type": "stream",
          "text": [
            "File ‘imdb_train.json’ already there; not retrieving.\r\n",
            "\r\n"
          ],
          "name": "stdout"
        }
      ]
    },
    {
      "cell_type": "markdown",
      "metadata": {
        "id": "-7Bwsi5pELbE"
      },
      "source": [
        "## Load data\n",
        "\n",
        "We load the IMDB data and shuffle it as usual."
      ]
    },
    {
      "cell_type": "code",
      "metadata": {
        "id": "BkRq2pW5ELbF",
        "outputId": "6f00297f-d927-442c-8c05-26eccbe40ea1"
      },
      "source": [
        "import json\n",
        "import random\n",
        "\n",
        "\n",
        "with open('imdb_train.json') as f:\n",
        "    data = json.load(f)\n",
        "\n",
        "random.seed(1234)    # This makes the shuffle produce the same order every time\n",
        "random.shuffle(data)\n",
        "\n",
        "if len(data) > MAX_EXAMPLES:\n",
        "    print('Note: truncating examples from {} to {}'.format(len(data), MAX_EXAMPLES))\n",
        "    data = data[:MAX_EXAMPLES]\n",
        "\n",
        "# Look at the data\n",
        "print(type(data))\n",
        "print(type(data[0]))\n",
        "print(data[0].keys())\n",
        "print(data[0])"
      ],
      "execution_count": null,
      "outputs": [
        {
          "output_type": "stream",
          "text": [
            "Note: truncating examples from 25000 to 1000\n",
            "<class 'list'>\n",
            "<class 'dict'>\n",
            "dict_keys(['class', 'text'])\n",
            "{'class': 'pos', 'text': \"I saw Insomniac's Nightmare not to long ago for the first time and I have to say, I really found it to be quite good. If you are a fan of Dominic Monaghan you will love it. The hole movie takes place inside his mind -or does it? The acting from everyone else is a little rushed and shaky and some of the scenes could be cut down but it works out in the end. The extras on the DVD are just as great as the film, if not greater for those Dom fans. It has tons of candid moments from the set, outtakes and a great interview with the director. Anyone who has gone through making an independent film will love to watch Tess (the director), Dom and everyone else on the very small close personal set try to bang out this little trippy creepy film. It was pretty enjoyable and I'm glad to have it in my collection.\"}\n"
          ],
          "name": "stdout"
        }
      ]
    },
    {
      "cell_type": "markdown",
      "metadata": {
        "id": "z63VA-bMELbF"
      },
      "source": [
        "Separate the texts and labels into lists of their own."
      ]
    },
    {
      "cell_type": "code",
      "metadata": {
        "id": "eJaI7NhvELbG",
        "outputId": "ef7a2c8b-6fe8-453a-b918-8673c043db6a"
      },
      "source": [
        "texts = [example['text'] for example in data]\n",
        "labels = [example['class'] for example in data]\n",
        "\n",
        "# Example text and label\n",
        "print('Text:', texts[0])\n",
        "print('Label:', labels[0])"
      ],
      "execution_count": null,
      "outputs": [
        {
          "output_type": "stream",
          "text": [
            "Text: I saw Insomniac's Nightmare not to long ago for the first time and I have to say, I really found it to be quite good. If you are a fan of Dominic Monaghan you will love it. The hole movie takes place inside his mind -or does it? The acting from everyone else is a little rushed and shaky and some of the scenes could be cut down but it works out in the end. The extras on the DVD are just as great as the film, if not greater for those Dom fans. It has tons of candid moments from the set, outtakes and a great interview with the director. Anyone who has gone through making an independent film will love to watch Tess (the director), Dom and everyone else on the very small close personal set try to bang out this little trippy creepy film. It was pretty enjoyable and I'm glad to have it in my collection.\n",
            "Label: pos\n"
          ],
          "name": "stdout"
        }
      ]
    },
    {
      "cell_type": "markdown",
      "metadata": {
        "id": "1iloppNIELbG"
      },
      "source": [
        "## Download pretrained BERT model\n",
        "\n",
        "As training BERT from scratch generally takes days, we'll here load a pretrained model and fine-tune it for our task. URLs to download pre-trained models made available by Google are found at https://github.com/google-research/bert .\n",
        "\n",
        "`cased_L-12_H-768_A-12` is a case-sensitive BERT \"base\" model for English: 12 layers, 768-dimensional hidden state, and 12 \"heads\" for multi-head attention."
      ]
    },
    {
      "cell_type": "code",
      "metadata": {
        "id": "krlaJmsXELbH",
        "outputId": "7663a039-9dfc-401d-e4ec-1cc6c0c7204a"
      },
      "source": [
        "# Give -nc (--no-clobber) argument so that the file isn't downloaded multiple times \n",
        "!wget -nc https://storage.googleapis.com/bert_models/2018_10_18/cased_L-12_H-768_A-12.zip"
      ],
      "execution_count": null,
      "outputs": [
        {
          "output_type": "stream",
          "text": [
            "File ‘cased_L-12_H-768_A-12.zip’ already there; not retrieving.\r\n",
            "\r\n"
          ],
          "name": "stdout"
        }
      ]
    },
    {
      "cell_type": "markdown",
      "metadata": {
        "id": "2HHiPgFpELbH"
      },
      "source": [
        "Unpack the downloaded file:"
      ]
    },
    {
      "cell_type": "code",
      "metadata": {
        "id": "Z4glKjmQELbI",
        "outputId": "4f894566-3135-4e7e-b696-7a401e7c32d2"
      },
      "source": [
        "# Give -n argument so that existing files aren't overwritten \n",
        "!unzip -n cased_L-12_H-768_A-12.zip"
      ],
      "execution_count": null,
      "outputs": [
        {
          "output_type": "stream",
          "text": [
            "Archive:  cased_L-12_H-768_A-12.zip\r\n"
          ],
          "name": "stdout"
        }
      ]
    },
    {
      "cell_type": "markdown",
      "metadata": {
        "id": "tbUU9-gwELbI"
      },
      "source": [
        "There are three key parts to the package contents:\n",
        "\n",
        "* `vocab.txt`: plain text file listing vocabulary items\n",
        "* `bert_config.json`: model configuration in JSON format\n",
        "* `bert_model.ckpt.*`: model checkpoint data with pre-trained weights in [Tensorflow checkpoint format](https://www.tensorflow.org/guide/checkpoint)\n",
        "\n",
        "Take note of the path to these (you'll need to change this if you pick a different model)"
      ]
    },
    {
      "cell_type": "code",
      "metadata": {
        "id": "zvgesQRKELbJ"
      },
      "source": [
        "bert_vocab_path = 'cased_L-12_H-768_A-12/vocab.txt'\n",
        "bert_config_path = 'cased_L-12_H-768_A-12/bert_config.json'\n",
        "bert_checkpoint_path = 'cased_L-12_H-768_A-12/bert_model.ckpt'    # suffixes not required"
      ],
      "execution_count": null,
      "outputs": []
    },
    {
      "cell_type": "markdown",
      "metadata": {
        "id": "--tneJcvELbJ"
      },
      "source": [
        "Also take note if the model we downloaded was a case-sensitive (cased) or not. (This must match the model.)"
      ]
    },
    {
      "cell_type": "code",
      "metadata": {
        "id": "n4l-iZ24ELbJ"
      },
      "source": [
        "model_is_cased = True"
      ],
      "execution_count": null,
      "outputs": []
    },
    {
      "cell_type": "markdown",
      "metadata": {
        "id": "KqJgNQ65ELbJ"
      },
      "source": [
        "## Load BERT vocabulary\n",
        "\n",
        "This is just a plain text file with one vocabulary item per line."
      ]
    },
    {
      "cell_type": "code",
      "metadata": {
        "id": "jQgK_nLKELbK",
        "outputId": "db38cd2d-706d-4923-f781-1fb22eee381c"
      },
      "source": [
        "vocab = []\n",
        "with open(bert_vocab_path) as f:\n",
        "    for i, line in enumerate(f):\n",
        "        vocab.append(line.rstrip('\\n'))    # rstrip to remove newline characters\n",
        "\n",
        "\n",
        "# Print a list with every 500th vocabulary item\n",
        "print(vocab[0::500])"
      ],
      "execution_count": null,
      "outputs": [
        {
          "output_type": "stream",
          "text": [
            "['[PAD]', 'щ', '吉', 'told', 'space', 'operations', 'proposed', 'Oxford', 'showing', 'domestic', 'mountains', 'commission', 'voices', 'associate', 'hills', 'Guide', 'relaxed', 'Page', 'Heights', 'singers', 'Interior', 'considers', 'facilitate', 'shouting', '1826', 'constitute', 'alter', 'clip', 'Into', 'Memory', 'ballad', 'Owens', 'Langdon', 'aquatic', 'stereo', 'Cass', 'Shock', '195', '##tec', '##sonic', 'attested', '##rdes', '1840s', '##90', 'Guys', '##rien', 'Munro', 'Ursula', 'mesh', 'diplomacy', 'Newmarket', '##oughs', 'synthesizers', 'Drugs', 'monstrous', '##ynamic', 'troll', '##ٹ']\n"
          ],
          "name": "stdout"
        }
      ]
    },
    {
      "cell_type": "markdown",
      "metadata": {
        "id": "rsIbSQPYELbK"
      },
      "source": [
        "## Load BERT configuration\n",
        "\n",
        "The configuration is just a JSON file, so we can read it in with `json.load` from the python `json` library.\n",
        "\n",
        "We won't actually need to use these configuration details directly (keras-bert takes care of them for us), so this is just here to show what information is contained in the config file."
      ]
    },
    {
      "cell_type": "code",
      "metadata": {
        "id": "V5UHGVOKELbL",
        "outputId": "319fbc29-6952-4d11-8e55-4fe49400df19"
      },
      "source": [
        "from pprint import pprint    # pretty-printer for output\n",
        "\n",
        "\n",
        "with open(bert_config_path) as f:\n",
        "    config = json.load(f)\n",
        "\n",
        "\n",
        "# Print configuration contents\n",
        "pprint(config)"
      ],
      "execution_count": null,
      "outputs": [
        {
          "output_type": "stream",
          "text": [
            "{'attention_probs_dropout_prob': 0.1,\n",
            " 'hidden_act': 'gelu',\n",
            " 'hidden_dropout_prob': 0.1,\n",
            " 'hidden_size': 768,\n",
            " 'initializer_range': 0.02,\n",
            " 'intermediate_size': 3072,\n",
            " 'max_position_embeddings': 512,\n",
            " 'num_attention_heads': 12,\n",
            " 'num_hidden_layers': 12,\n",
            " 'type_vocab_size': 2,\n",
            " 'vocab_size': 28996}\n"
          ],
          "name": "stdout"
        }
      ]
    },
    {
      "cell_type": "markdown",
      "metadata": {
        "id": "Al3620LpELbL"
      },
      "source": [
        "## Create BERT tokenizer\n",
        "\n",
        "To create the tokenizer, we'll need a mapping from vocabulary items to their corresponding integer indices. We do this conventionally using `enumerate`."
      ]
    },
    {
      "cell_type": "code",
      "metadata": {
        "id": "KUlLgeI5ELbL",
        "outputId": "f3ccdb5d-8f69-4702-b092-edfc279e18b8"
      },
      "source": [
        "# Create mapping from vocabulary items to their indices in the vocabulary\n",
        "token_dict = { v: i for i, v in enumerate(vocab) }\n",
        "\n",
        "\n",
        "# Print some random examples of the mapping\n",
        "pprint(dict(random.choices(list(token_dict.items()), k=10)))"
      ],
      "execution_count": null,
      "outputs": [
        {
          "output_type": "stream",
          "text": [
            "{'##FF': 17515,\n",
            " '##bi': 5567,\n",
            " '##good': 23684,\n",
            " 'Colours': 23189,\n",
            " 'Lockheed': 18904,\n",
            " 'Merrill': 17247,\n",
            " 'Wheel': 19754,\n",
            " '[unused82]': 82,\n",
            " 'clock': 4705,\n",
            " 'corridors': 19507}\n"
          ],
          "name": "stdout"
        }
      ]
    },
    {
      "cell_type": "markdown",
      "metadata": {
        "id": "O7q3jwGvELbM"
      },
      "source": [
        "We'll use the keras-bert `Tokenizer` for BERT tokenization. The implementation supports\n",
        "\n",
        "* (Optional) lowercasing: `Hello` → `hello`\n",
        "* Basic tokenization: `Hello!` → `Hello` `!`, `multi-part` → `multi` `-` `part`\n",
        "* Wordpiece tokenization: `comprehensively` → `comprehensive` `##ly`\n",
        "* Adding special tokens: `Sentence`  → `[CLS]` `Sentence` `[SEP]`\n",
        "* Mapping to integer indices\n",
        "* Generating segment sequence\n",
        "* (Optional) padding and truncation to length\n",
        "\n",
        "In the following example, notice how words not in the dictionary are broken up into subwords (with continuation parts starting with `##`) and how unknown _characters_ are mapped to a special unknown word token `[UNK]`."
      ]
    },
    {
      "cell_type": "code",
      "metadata": {
        "id": "dXBiE3zVELbM",
        "outputId": "65a78b3c-0f07-4d00-9644-605b2b357fe4"
      },
      "source": [
        "from keras_bert import Tokenizer\n",
        "\n",
        "\n",
        "tokenizer = Tokenizer(token_dict, cased=model_is_cased)\n",
        "\n",
        "\n",
        "# Let's test that out\n",
        "for s in ['Hello BERT!', 'Unknown: 你']:\n",
        "    print('Original string:', s)\n",
        "    print('Tokenized:', tokenizer.tokenize(s))\n",
        "    indices, segments = tokenizer.encode(s, max_len=20)    # max_len for padding and truncation\n",
        "    print('Encoded:', indices)\n",
        "    print('Segments:', segments)\n",
        "    print('Decoded:', ' '.join(tokenizer.decode(indices)))\n",
        "    print()"
      ],
      "execution_count": null,
      "outputs": [
        {
          "output_type": "stream",
          "text": [
            "Original string: Hello BERT!\n",
            "Tokenized: ['[CLS]', 'Hello', 'B', '##ER', '##T', '!', '[SEP]']\n",
            "Encoded: [101, 8667, 139, 9637, 1942, 106, 102, 0, 0, 0, 0, 0, 0, 0, 0, 0, 0, 0, 0, 0]\n",
            "Segments: [0, 0, 0, 0, 0, 0, 0, 0, 0, 0, 0, 0, 0, 0, 0, 0, 0, 0, 0, 0]\n",
            "Decoded: Hello B ##ER ##T !\n",
            "\n",
            "Original string: Unknown: 你\n",
            "Tokenized: ['[CLS]', 'Unknown', ':', '你', '[SEP]']\n",
            "Encoded: [101, 16285, 131, 100, 102, 0, 0, 0, 0, 0, 0, 0, 0, 0, 0, 0, 0, 0, 0, 0]\n",
            "Segments: [0, 0, 0, 0, 0, 0, 0, 0, 0, 0, 0, 0, 0, 0, 0, 0, 0, 0, 0, 0]\n",
            "Decoded: Unknown : [UNK]\n",
            "\n"
          ],
          "name": "stdout"
        }
      ]
    },
    {
      "cell_type": "markdown",
      "metadata": {
        "id": "ekc_XyBfELbN"
      },
      "source": [
        "## Vectorize data\n",
        "\n",
        "We'll use the familiar `LabelEncoder` for labels and the keras-bert `Tokenizer` for text data. `Y` is the representation of the labels that will be given to the model for training."
      ]
    },
    {
      "cell_type": "code",
      "metadata": {
        "id": "9qFYFHpTELbN",
        "outputId": "08f0f5a1-959f-43a9-ae84-2b394dec49c8"
      },
      "source": [
        "from sklearn.preprocessing import LabelEncoder\n",
        "\n",
        "\n",
        "label_encoder = LabelEncoder()    # Turns class labels into integers\n",
        "Y = label_encoder.fit_transform(labels)\n",
        "\n",
        "# Take note of how many unique labels there are in the data\n",
        "num_labels = len(set(Y))\n",
        "\n",
        "\n",
        "# Print out some examples\n",
        "print('Number of unique labels:', num_labels)\n",
        "print(type(labels), labels[:10])\n",
        "print(type(Y), Y[:10])"
      ],
      "execution_count": null,
      "outputs": [
        {
          "output_type": "stream",
          "text": [
            "Number of unique labels: 2\n",
            "<class 'list'> ['pos', 'neg', 'pos', 'pos', 'pos', 'neg', 'neg', 'pos', 'neg', 'pos']\n",
            "<class 'numpy.ndarray'> [1 0 1 1 1 0 0 1 0 1]\n"
          ],
          "name": "stdout"
        }
      ]
    },
    {
      "cell_type": "markdown",
      "metadata": {
        "id": "nja_9VB8ELbO"
      },
      "source": [
        "Keep token indices and segment ids in separate lists and store as numpy arrays. `X` here is the final vectorized form of the input we'll be providing to the model for training. "
      ]
    },
    {
      "cell_type": "code",
      "metadata": {
        "id": "KBH8wIuZELbO",
        "outputId": "59aa63ff-ffd4-40b5-bac2-e88238bcf150"
      },
      "source": [
        "import numpy as np\n",
        "\n",
        "\n",
        "token_indices, segment_ids = [], []\n",
        "for text in texts:\n",
        "    # tokenizer.encode() returns a sequence of token indices\n",
        "    # and a sequence of segment IDs. BERT expects both as input,\n",
        "    # even if the segments IDs are just all zeros (like here).\n",
        "    tid, sid = tokenizer.encode(text, max_len=INPUT_LENGTH)\n",
        "    token_indices.append(tid)\n",
        "    segment_ids.append(sid)\n",
        "\n",
        "# Format input as list of two numpy arrays\n",
        "X = [np.array(token_indices), np.array(segment_ids)]\n",
        "\n",
        "\n",
        "# Print some examples\n",
        "print('Token indices:')\n",
        "print(X[0][:2])\n",
        "print('Decoded:')\n",
        "for i in X[0][:2]:\n",
        "    print(tokenizer.decode(list(i)))\n",
        "print('Segment ids:')\n",
        "print(X[1][:2])"
      ],
      "execution_count": null,
      "outputs": [
        {
          "output_type": "stream",
          "text": [
            "Token indices:\n",
            "[[  101   146  1486  1130  7301  1306  5813  1665   112   188 26247  1136\n",
            "   1106  1263  2403  1111  1103  1148  1159  1105   146  1138  1106  1474\n",
            "    117   146  1541  1276  1122  1106  1129  2385  1363   119  1409  1128\n",
            "   1132   170  5442  1104 11288 15706 23136  1128  1209  1567  1122   119\n",
            "   1109  4569  2523  2274  1282  1656  1117  1713   118  1137  1674  1122\n",
            "    136  1109  3176  1121  2490  1950  1110   170  1376  6169  1105 16591\n",
            "   1105  1199  1104  1103  4429  1180  1129  2195  1205  1133  1122  1759\n",
            "   1149  1107  1103  1322   119  1109  3908  1116  1113  1103  4173  1132\n",
            "   1198  1112  1632  1112  1103  1273   117  1191  1136  3407  1111  1343\n",
            "  16727  3899   119  1135  1144  5606  1104  1169  3309  1181  4899  1121\n",
            "   1103  1383   117  1149 13482  1116  1105   170  1632  3669  1114  1103\n",
            "   1900   119 15859  1150  1144  2065  1194  1543  1126  2457  1273  1209\n",
            "   1567  1106  2824 16613   113  1103  1900   114   117 16727  1105  2490\n",
            "   1950  1113  1103  1304  1353  1601  2357  1383  2222  1106 21260  1149\n",
            "   1142  1376  3868  5005 19857  1273   119  1135  1108  2785 24815  1105\n",
            "    146   112   182  5171  1106  1138  1122  1107  1139  2436   119   102\n",
            "      0     0     0     0     0     0     0     0     0     0     0     0\n",
            "      0     0     0     0     0     0     0     0     0     0     0     0\n",
            "      0     0     0     0     0     0     0     0     0     0     0     0\n",
            "      0     0     0     0     0     0     0     0     0     0     0     0\n",
            "      0     0     0     0     0     0     0     0     0     0]\n",
            " [  101  1109  1273  1110   170  2436  1104   172 26567   112   188  1113\n",
            "   1198  1164  1625  1149  1175   119  1135  1144  1185  2817 20748   117\n",
            "   1185  2513   117  1185  1842  3802   119   156 17162 15792  1863  1110\n",
            "   2873  1166  1103  1499  1105 17000  2340  2624  1110 13504  1105 22052\n",
            "   2285   119  1188  2523  1169   112   189  9345  1103 23483  1104  1543\n",
            "   3362  1187  1664  5903   119  4081  1353  3670  1104  1734  3587  2411\n",
            "   1154   170 12628   117  8362  9380  2050  6202 17693  8032  1115  1110\n",
            "   1177  4701  1104  1126  3176  1705 20762   119  2777  1175  1110  1185\n",
            "   9556  1106  1142  3670   117  1103  5681   113  8334  1104  1293  1363\n",
            "   1152  1132  5156   114  1169   112   189  1494  1133 20766  1114 18088\n",
            "   7471   117 10908   165  5920  1103 17930   165   107   119  3278  3176\n",
            "    117  1106  1508  1122  2566   119  1109 10404  1110  1104  1185  1494\n",
            "   1303   119  4302  1169  3277  1142  1664   118  1642   119  1135  1110\n",
            "   2257   117  8406  1181  1105 12533  1106  3632   119  1130  7409 10182\n",
            "  19366  1905  1107  4104  4626  9257  7899  2067  1114  1109  2627   117\n",
            "  15659  1116  1105  6746  1183  3078   112   188 24526   119 23543  1116\n",
            "  20004  1443   170  1648   117  6505  1105 17941   119 26316  1116  1132\n",
            "  16439   119  1188  1110 27593 16303 16040  1109  2750 26297  2225 16040\n",
            "   4306  3259 21416   117  1114  2764  1105  1893  8899  1149   119  2750\n",
            "    141  2101   119   146   112  1325  1660  1122  1115   119  1789  2441\n",
            "   1138 24132   119  1188  1273  1110  2499   112   188   102]]\n",
            "Decoded:\n",
            "['I', 'saw', 'In', '##so', '##m', '##nia', '##c', \"'\", 's', 'Nightmare', 'not', 'to', 'long', 'ago', 'for', 'the', 'first', 'time', 'and', 'I', 'have', 'to', 'say', ',', 'I', 'really', 'found', 'it', 'to', 'be', 'quite', 'good', '.', 'If', 'you', 'are', 'a', 'fan', 'of', 'Dominic', 'Mona', '##ghan', 'you', 'will', 'love', 'it', '.', 'The', 'hole', 'movie', 'takes', 'place', 'inside', 'his', 'mind', '-', 'or', 'does', 'it', '?', 'The', 'acting', 'from', 'everyone', 'else', 'is', 'a', 'little', 'rushed', 'and', 'shaky', 'and', 'some', 'of', 'the', 'scenes', 'could', 'be', 'cut', 'down', 'but', 'it', 'works', 'out', 'in', 'the', 'end', '.', 'The', 'extra', '##s', 'on', 'the', 'DVD', 'are', 'just', 'as', 'great', 'as', 'the', 'film', ',', 'if', 'not', 'greater', 'for', 'those', 'Dom', 'fans', '.', 'It', 'has', 'tons', 'of', 'can', '##di', '##d', 'moments', 'from', 'the', 'set', ',', 'out', '##take', '##s', 'and', 'a', 'great', 'interview', 'with', 'the', 'director', '.', 'Anyone', 'who', 'has', 'gone', 'through', 'making', 'an', 'independent', 'film', 'will', 'love', 'to', 'watch', 'Tess', '(', 'the', 'director', ')', ',', 'Dom', 'and', 'everyone', 'else', 'on', 'the', 'very', 'small', 'close', 'personal', 'set', 'try', 'to', 'bang', 'out', 'this', 'little', 'trip', '##py', 'creepy', 'film', '.', 'It', 'was', 'pretty', 'enjoyable', 'and', 'I', \"'\", 'm', 'glad', 'to', 'have', 'it', 'in', 'my', 'collection', '.']\n",
            "['The', 'film', 'is', 'a', 'collection', 'of', 'c', '##liche', \"'\", 's', 'on', 'just', 'about', 'anything', 'out', 'there', '.', 'It', 'has', 'no', 'focus', 'whatsoever', ',', 'no', 'goals', ',', 'no', 'real', 'message', '.', 'S', '##ym', '##bol', '##ism', 'is', 'pushed', 'over', 'the', 'top', 'and', 'stereo', '##ty', '##ping', 'is', 'abundant', 'and', 'outrage', '##ous', '.', 'This', 'movie', 'can', \"'\", 't', 'resist', 'the', 'temptation', 'of', 'making', 'drama', 'where', 'non', 'exists', '.', 'Every', 'small', 'exchange', 'of', 'words', 'turns', 'immediately', 'into', 'a', 'lengthy', ',', 'un', '##ju', '##st', '##ified', 'dial', '##og', 'that', 'is', 'so', 'typical', 'of', 'an', 'acting', 'class', 'rehearsal', '.', 'Where', 'there', 'is', 'no', 'substance', 'to', 'this', 'exchange', ',', 'the', 'actors', '(', 'regardless', 'of', 'how', 'good', 'they', 'are', 'normally', ')', 'can', \"'\", 't', 'help', 'but', 'compensate', 'with', 'exaggerated', 'emotion', ',', 'aka', '\\\\', 'raising', 'the', 'stakes', '\\\\', '\"', '.', 'Over', 'acting', ',', 'to', 'put', 'it', 'simply', '.', 'The', 'directing', 'is', 'of', 'no', 'help', 'here', '.', 'Nothing', 'can', 'save', 'this', 'non', '-', 'story', '.', 'It', 'is', 'forced', ',', 'fake', '##d', 'and', 'boring', 'to', 'tears', '.', 'In', '##ac', '##cu', '##rac', '##ies', 'in', 'port', '##ara', '##ying', 'punk', 'rock', 'with', 'The', 'Who', ',', 'piercing', '##s', 'and', 'flash', '##y', '90', \"'\", 's', 'outfits', '.', 'Character', '##s', 'wander', 'without', 'a', 'role', ',', 'detail', 'and', 'motive', '.', 'Location', '##s', 'are', 'arbitrary', '.', 'This', 'is', 'Boogie', 'Nights', 'cum', 'The', 'Good', 'Fell', '##as', 'cum', 'Saturday', 'Night', 'Fever', ',', 'with', 'meaning', 'and', 'art', 'ripped', 'out', '.', 'Good', 'D', '##P', '.', 'I', \"'\", 'll', 'give', 'it', 'that', '.', 'Some', 'films', 'have', 'flaws', '.', 'This', 'film', 'is', 'Lee', \"'\", 's']\n",
            "Segment ids:\n",
            "[[0 0 0 0 0 0 0 0 0 0 0 0 0 0 0 0 0 0 0 0 0 0 0 0 0 0 0 0 0 0 0 0 0 0 0 0\n",
            "  0 0 0 0 0 0 0 0 0 0 0 0 0 0 0 0 0 0 0 0 0 0 0 0 0 0 0 0 0 0 0 0 0 0 0 0\n",
            "  0 0 0 0 0 0 0 0 0 0 0 0 0 0 0 0 0 0 0 0 0 0 0 0 0 0 0 0 0 0 0 0 0 0 0 0\n",
            "  0 0 0 0 0 0 0 0 0 0 0 0 0 0 0 0 0 0 0 0 0 0 0 0 0 0 0 0 0 0 0 0 0 0 0 0\n",
            "  0 0 0 0 0 0 0 0 0 0 0 0 0 0 0 0 0 0 0 0 0 0 0 0 0 0 0 0 0 0 0 0 0 0 0 0\n",
            "  0 0 0 0 0 0 0 0 0 0 0 0 0 0 0 0 0 0 0 0 0 0 0 0 0 0 0 0 0 0 0 0 0 0 0 0\n",
            "  0 0 0 0 0 0 0 0 0 0 0 0 0 0 0 0 0 0 0 0 0 0 0 0 0 0 0 0 0 0 0 0 0 0]\n",
            " [0 0 0 0 0 0 0 0 0 0 0 0 0 0 0 0 0 0 0 0 0 0 0 0 0 0 0 0 0 0 0 0 0 0 0 0\n",
            "  0 0 0 0 0 0 0 0 0 0 0 0 0 0 0 0 0 0 0 0 0 0 0 0 0 0 0 0 0 0 0 0 0 0 0 0\n",
            "  0 0 0 0 0 0 0 0 0 0 0 0 0 0 0 0 0 0 0 0 0 0 0 0 0 0 0 0 0 0 0 0 0 0 0 0\n",
            "  0 0 0 0 0 0 0 0 0 0 0 0 0 0 0 0 0 0 0 0 0 0 0 0 0 0 0 0 0 0 0 0 0 0 0 0\n",
            "  0 0 0 0 0 0 0 0 0 0 0 0 0 0 0 0 0 0 0 0 0 0 0 0 0 0 0 0 0 0 0 0 0 0 0 0\n",
            "  0 0 0 0 0 0 0 0 0 0 0 0 0 0 0 0 0 0 0 0 0 0 0 0 0 0 0 0 0 0 0 0 0 0 0 0\n",
            "  0 0 0 0 0 0 0 0 0 0 0 0 0 0 0 0 0 0 0 0 0 0 0 0 0 0 0 0 0 0 0 0 0 0]]\n"
          ],
          "name": "stdout"
        }
      ]
    },
    {
      "cell_type": "markdown",
      "metadata": {
        "id": "YApAPEvFELbP"
      },
      "source": [
        "## Load pretrained BERT model\n",
        "\n",
        "We'll use the keras-bert function `load_trained_model_from_checkpoint` to load the model from the checkpoint we downloaded earlier.\n",
        "\n",
        "Explanation for a few parameters from keras-bert documentation:\n",
        "\n",
        "* `training`: If `training`, the whole model will be returned. Otherwise, the MLM [masked language modeling] and NSP [next sentence prediction] parts will be ignored.\n",
        "* `trainable`: Whether the model is trainable. The default value is the same with `training`.\n",
        "\n",
        "We don't need the masked language modeling or next sentence prediction parts (these are primarily for pretraining), so we'll use `training=False` but `trainable=True`."
      ]
    },
    {
      "cell_type": "code",
      "metadata": {
        "id": "StLxTwFAELbP",
        "outputId": "fa763c29-6b8e-4055-9086-85fe8891ad52"
      },
      "source": [
        "from keras_bert import load_trained_model_from_checkpoint\n",
        "\n",
        "\n",
        "pretrained_model = load_trained_model_from_checkpoint(\n",
        "    config_file = bert_config_path,\n",
        "    checkpoint_file = bert_checkpoint_path,\n",
        "    training = False,\n",
        "    trainable = True,\n",
        "    seq_len = INPUT_LENGTH\n",
        ")"
      ],
      "execution_count": null,
      "outputs": [
        {
          "output_type": "stream",
          "text": [
            "WARNING:tensorflow:From /Users/smp/Library/Python/3.7/lib/python/site-packages/tensorflow_core/python/keras/initializers.py:119: calling RandomUniform.__init__ (from tensorflow.python.ops.init_ops) with dtype is deprecated and will be removed in a future version.\n",
            "Instructions for updating:\n",
            "Call initializer instance with the dtype argument instead of passing it to the constructor\n",
            "WARNING:tensorflow:From /Users/smp/Library/Python/3.7/lib/python/site-packages/tensorflow_core/python/ops/resource_variable_ops.py:1630: calling BaseResourceVariable.__init__ (from tensorflow.python.ops.resource_variable_ops) with constraint is deprecated and will be removed in a future version.\n",
            "Instructions for updating:\n",
            "If using Keras pass *_constraint arguments to layers.\n"
          ],
          "name": "stdout"
        }
      ]
    },
    {
      "cell_type": "markdown",
      "metadata": {
        "id": "ZdEZUY1CELbQ"
      },
      "source": [
        "Let's have a bit of a look at that model"
      ]
    },
    {
      "cell_type": "code",
      "metadata": {
        "id": "Vl6x4gBoELbQ",
        "outputId": "130f7d71-f87b-40c2-ee83-cef7bdd65e52"
      },
      "source": [
        "# This is a keras model, so we can figure out what inputs it takes like so:\n",
        "pretrained_model.inputs"
      ],
      "execution_count": null,
      "outputs": [
        {
          "output_type": "execute_result",
          "data": {
            "text/plain": [
              "[<tf.Tensor 'Input-Token:0' shape=(?, 250) dtype=float32>,\n",
              " <tf.Tensor 'Input-Segment:0' shape=(?, 250) dtype=float32>]"
            ]
          },
          "metadata": {
            "tags": []
          },
          "execution_count": 18
        }
      ]
    },
    {
      "cell_type": "code",
      "metadata": {
        "id": "Mi66esRrELbR",
        "outputId": "2f042c5e-90b4-4cb1-bde0-39c0909b5653"
      },
      "source": [
        "# And similarly for outputs:\n",
        "pretrained_model.outputs"
      ],
      "execution_count": null,
      "outputs": [
        {
          "output_type": "execute_result",
          "data": {
            "text/plain": [
              "[<tf.Tensor 'Encoder-12-FeedForward-Norm/add_1:0' shape=(?, 250, 768) dtype=float32>]"
            ]
          },
          "metadata": {
            "tags": []
          },
          "execution_count": 19
        }
      ]
    },
    {
      "cell_type": "markdown",
      "metadata": {
        "id": "inLvtQsWELbS"
      },
      "source": [
        "So, the model takes `Input-Token` and `Input-Segment` inputs, both of dimension (batch-size, input-length), and produces a single output tensor of dimension (batch-size, input-length, hidden-dim). The input matches our `X`, but we'll need to work on the output a bit as our `Y` is just a label for each input, not a sequence of labels."
      ]
    },
    {
      "cell_type": "code",
      "metadata": {
        "id": "w2JnWADCELbS",
        "outputId": "086ad388-8cff-452f-94ca-ebbf7f4f9b27"
      },
      "source": [
        "pretrained_model.summary()"
      ],
      "execution_count": null,
      "outputs": [
        {
          "output_type": "stream",
          "text": [
            "Model: \"model_1\"\n",
            "__________________________________________________________________________________________________\n",
            "Layer (type)                    Output Shape         Param #     Connected to                     \n",
            "==================================================================================================\n",
            "Input-Token (InputLayer)        [(None, 250)]        0                                            \n",
            "__________________________________________________________________________________________________\n",
            "Input-Segment (InputLayer)      [(None, 250)]        0                                            \n",
            "__________________________________________________________________________________________________\n",
            "Embedding-Token (TokenEmbedding [(None, 250, 768), ( 22268928    Input-Token[0][0]                \n",
            "__________________________________________________________________________________________________\n",
            "Embedding-Segment (Embedding)   (None, 250, 768)     1536        Input-Segment[0][0]              \n",
            "__________________________________________________________________________________________________\n",
            "Embedding-Token-Segment (Add)   (None, 250, 768)     0           Embedding-Token[0][0]            \n",
            "                                                                 Embedding-Segment[0][0]          \n",
            "__________________________________________________________________________________________________\n",
            "Embedding-Position (PositionEmb (None, 250, 768)     192000      Embedding-Token-Segment[0][0]    \n",
            "__________________________________________________________________________________________________\n",
            "Embedding-Dropout (Dropout)     (None, 250, 768)     0           Embedding-Position[0][0]         \n",
            "__________________________________________________________________________________________________\n",
            "Embedding-Norm (LayerNormalizat (None, 250, 768)     1536        Embedding-Dropout[0][0]          \n",
            "__________________________________________________________________________________________________\n",
            "Encoder-1-MultiHeadSelfAttentio (None, 250, 768)     2362368     Embedding-Norm[0][0]             \n",
            "__________________________________________________________________________________________________\n",
            "Encoder-1-MultiHeadSelfAttentio (None, 250, 768)     0           Encoder-1-MultiHeadSelfAttention[\n",
            "__________________________________________________________________________________________________\n",
            "Encoder-1-MultiHeadSelfAttentio (None, 250, 768)     0           Embedding-Norm[0][0]             \n",
            "                                                                 Encoder-1-MultiHeadSelfAttention-\n",
            "__________________________________________________________________________________________________\n",
            "Encoder-1-MultiHeadSelfAttentio (None, 250, 768)     1536        Encoder-1-MultiHeadSelfAttention-\n",
            "__________________________________________________________________________________________________\n",
            "Encoder-1-FeedForward (FeedForw (None, 250, 768)     4722432     Encoder-1-MultiHeadSelfAttention-\n",
            "__________________________________________________________________________________________________\n",
            "Encoder-1-FeedForward-Dropout ( (None, 250, 768)     0           Encoder-1-FeedForward[0][0]      \n",
            "__________________________________________________________________________________________________\n",
            "Encoder-1-FeedForward-Add (Add) (None, 250, 768)     0           Encoder-1-MultiHeadSelfAttention-\n",
            "                                                                 Encoder-1-FeedForward-Dropout[0][\n",
            "__________________________________________________________________________________________________\n",
            "Encoder-1-FeedForward-Norm (Lay (None, 250, 768)     1536        Encoder-1-FeedForward-Add[0][0]  \n",
            "__________________________________________________________________________________________________\n",
            "Encoder-2-MultiHeadSelfAttentio (None, 250, 768)     2362368     Encoder-1-FeedForward-Norm[0][0] \n",
            "__________________________________________________________________________________________________\n",
            "Encoder-2-MultiHeadSelfAttentio (None, 250, 768)     0           Encoder-2-MultiHeadSelfAttention[\n",
            "__________________________________________________________________________________________________\n",
            "Encoder-2-MultiHeadSelfAttentio (None, 250, 768)     0           Encoder-1-FeedForward-Norm[0][0] \n",
            "                                                                 Encoder-2-MultiHeadSelfAttention-\n",
            "__________________________________________________________________________________________________\n",
            "Encoder-2-MultiHeadSelfAttentio (None, 250, 768)     1536        Encoder-2-MultiHeadSelfAttention-\n",
            "__________________________________________________________________________________________________\n",
            "Encoder-2-FeedForward (FeedForw (None, 250, 768)     4722432     Encoder-2-MultiHeadSelfAttention-\n",
            "__________________________________________________________________________________________________\n",
            "Encoder-2-FeedForward-Dropout ( (None, 250, 768)     0           Encoder-2-FeedForward[0][0]      \n",
            "__________________________________________________________________________________________________\n",
            "Encoder-2-FeedForward-Add (Add) (None, 250, 768)     0           Encoder-2-MultiHeadSelfAttention-\n",
            "                                                                 Encoder-2-FeedForward-Dropout[0][\n",
            "__________________________________________________________________________________________________\n",
            "Encoder-2-FeedForward-Norm (Lay (None, 250, 768)     1536        Encoder-2-FeedForward-Add[0][0]  \n",
            "__________________________________________________________________________________________________\n",
            "Encoder-3-MultiHeadSelfAttentio (None, 250, 768)     2362368     Encoder-2-FeedForward-Norm[0][0] \n",
            "__________________________________________________________________________________________________\n",
            "Encoder-3-MultiHeadSelfAttentio (None, 250, 768)     0           Encoder-3-MultiHeadSelfAttention[\n",
            "__________________________________________________________________________________________________\n",
            "Encoder-3-MultiHeadSelfAttentio (None, 250, 768)     0           Encoder-2-FeedForward-Norm[0][0] \n",
            "                                                                 Encoder-3-MultiHeadSelfAttention-\n",
            "__________________________________________________________________________________________________\n",
            "Encoder-3-MultiHeadSelfAttentio (None, 250, 768)     1536        Encoder-3-MultiHeadSelfAttention-\n",
            "__________________________________________________________________________________________________\n",
            "Encoder-3-FeedForward (FeedForw (None, 250, 768)     4722432     Encoder-3-MultiHeadSelfAttention-\n",
            "__________________________________________________________________________________________________\n",
            "Encoder-3-FeedForward-Dropout ( (None, 250, 768)     0           Encoder-3-FeedForward[0][0]      \n",
            "__________________________________________________________________________________________________\n",
            "Encoder-3-FeedForward-Add (Add) (None, 250, 768)     0           Encoder-3-MultiHeadSelfAttention-\n",
            "                                                                 Encoder-3-FeedForward-Dropout[0][\n",
            "__________________________________________________________________________________________________\n",
            "Encoder-3-FeedForward-Norm (Lay (None, 250, 768)     1536        Encoder-3-FeedForward-Add[0][0]  \n",
            "__________________________________________________________________________________________________\n",
            "Encoder-4-MultiHeadSelfAttentio (None, 250, 768)     2362368     Encoder-3-FeedForward-Norm[0][0] \n",
            "__________________________________________________________________________________________________\n",
            "Encoder-4-MultiHeadSelfAttentio (None, 250, 768)     0           Encoder-4-MultiHeadSelfAttention[\n",
            "__________________________________________________________________________________________________\n",
            "Encoder-4-MultiHeadSelfAttentio (None, 250, 768)     0           Encoder-3-FeedForward-Norm[0][0] \n",
            "                                                                 Encoder-4-MultiHeadSelfAttention-\n",
            "__________________________________________________________________________________________________\n",
            "Encoder-4-MultiHeadSelfAttentio (None, 250, 768)     1536        Encoder-4-MultiHeadSelfAttention-\n",
            "__________________________________________________________________________________________________\n",
            "Encoder-4-FeedForward (FeedForw (None, 250, 768)     4722432     Encoder-4-MultiHeadSelfAttention-\n",
            "__________________________________________________________________________________________________\n",
            "Encoder-4-FeedForward-Dropout ( (None, 250, 768)     0           Encoder-4-FeedForward[0][0]      \n",
            "__________________________________________________________________________________________________\n",
            "Encoder-4-FeedForward-Add (Add) (None, 250, 768)     0           Encoder-4-MultiHeadSelfAttention-\n",
            "                                                                 Encoder-4-FeedForward-Dropout[0][\n",
            "__________________________________________________________________________________________________\n",
            "Encoder-4-FeedForward-Norm (Lay (None, 250, 768)     1536        Encoder-4-FeedForward-Add[0][0]  \n",
            "__________________________________________________________________________________________________\n",
            "Encoder-5-MultiHeadSelfAttentio (None, 250, 768)     2362368     Encoder-4-FeedForward-Norm[0][0] \n",
            "__________________________________________________________________________________________________\n",
            "Encoder-5-MultiHeadSelfAttentio (None, 250, 768)     0           Encoder-5-MultiHeadSelfAttention[\n",
            "__________________________________________________________________________________________________\n",
            "Encoder-5-MultiHeadSelfAttentio (None, 250, 768)     0           Encoder-4-FeedForward-Norm[0][0] \n",
            "                                                                 Encoder-5-MultiHeadSelfAttention-\n",
            "__________________________________________________________________________________________________\n",
            "Encoder-5-MultiHeadSelfAttentio (None, 250, 768)     1536        Encoder-5-MultiHeadSelfAttention-\n",
            "__________________________________________________________________________________________________\n",
            "Encoder-5-FeedForward (FeedForw (None, 250, 768)     4722432     Encoder-5-MultiHeadSelfAttention-\n",
            "__________________________________________________________________________________________________\n",
            "Encoder-5-FeedForward-Dropout ( (None, 250, 768)     0           Encoder-5-FeedForward[0][0]      \n",
            "__________________________________________________________________________________________________\n",
            "Encoder-5-FeedForward-Add (Add) (None, 250, 768)     0           Encoder-5-MultiHeadSelfAttention-\n",
            "                                                                 Encoder-5-FeedForward-Dropout[0][\n",
            "__________________________________________________________________________________________________\n",
            "Encoder-5-FeedForward-Norm (Lay (None, 250, 768)     1536        Encoder-5-FeedForward-Add[0][0]  \n",
            "__________________________________________________________________________________________________\n",
            "Encoder-6-MultiHeadSelfAttentio (None, 250, 768)     2362368     Encoder-5-FeedForward-Norm[0][0] \n",
            "__________________________________________________________________________________________________\n",
            "Encoder-6-MultiHeadSelfAttentio (None, 250, 768)     0           Encoder-6-MultiHeadSelfAttention[\n",
            "__________________________________________________________________________________________________\n",
            "Encoder-6-MultiHeadSelfAttentio (None, 250, 768)     0           Encoder-5-FeedForward-Norm[0][0] \n",
            "                                                                 Encoder-6-MultiHeadSelfAttention-\n",
            "__________________________________________________________________________________________________\n",
            "Encoder-6-MultiHeadSelfAttentio (None, 250, 768)     1536        Encoder-6-MultiHeadSelfAttention-\n",
            "__________________________________________________________________________________________________\n",
            "Encoder-6-FeedForward (FeedForw (None, 250, 768)     4722432     Encoder-6-MultiHeadSelfAttention-\n",
            "__________________________________________________________________________________________________\n",
            "Encoder-6-FeedForward-Dropout ( (None, 250, 768)     0           Encoder-6-FeedForward[0][0]      \n",
            "__________________________________________________________________________________________________\n",
            "Encoder-6-FeedForward-Add (Add) (None, 250, 768)     0           Encoder-6-MultiHeadSelfAttention-\n",
            "                                                                 Encoder-6-FeedForward-Dropout[0][\n",
            "__________________________________________________________________________________________________\n",
            "Encoder-6-FeedForward-Norm (Lay (None, 250, 768)     1536        Encoder-6-FeedForward-Add[0][0]  \n",
            "__________________________________________________________________________________________________\n",
            "Encoder-7-MultiHeadSelfAttentio (None, 250, 768)     2362368     Encoder-6-FeedForward-Norm[0][0] \n",
            "__________________________________________________________________________________________________\n",
            "Encoder-7-MultiHeadSelfAttentio (None, 250, 768)     0           Encoder-7-MultiHeadSelfAttention[\n",
            "__________________________________________________________________________________________________\n",
            "Encoder-7-MultiHeadSelfAttentio (None, 250, 768)     0           Encoder-6-FeedForward-Norm[0][0] \n",
            "                                                                 Encoder-7-MultiHeadSelfAttention-\n",
            "__________________________________________________________________________________________________\n",
            "Encoder-7-MultiHeadSelfAttentio (None, 250, 768)     1536        Encoder-7-MultiHeadSelfAttention-\n",
            "__________________________________________________________________________________________________\n",
            "Encoder-7-FeedForward (FeedForw (None, 250, 768)     4722432     Encoder-7-MultiHeadSelfAttention-\n",
            "__________________________________________________________________________________________________\n",
            "Encoder-7-FeedForward-Dropout ( (None, 250, 768)     0           Encoder-7-FeedForward[0][0]      \n",
            "__________________________________________________________________________________________________\n",
            "Encoder-7-FeedForward-Add (Add) (None, 250, 768)     0           Encoder-7-MultiHeadSelfAttention-\n",
            "                                                                 Encoder-7-FeedForward-Dropout[0][\n",
            "__________________________________________________________________________________________________\n",
            "Encoder-7-FeedForward-Norm (Lay (None, 250, 768)     1536        Encoder-7-FeedForward-Add[0][0]  \n",
            "__________________________________________________________________________________________________\n",
            "Encoder-8-MultiHeadSelfAttentio (None, 250, 768)     2362368     Encoder-7-FeedForward-Norm[0][0] \n",
            "__________________________________________________________________________________________________\n",
            "Encoder-8-MultiHeadSelfAttentio (None, 250, 768)     0           Encoder-8-MultiHeadSelfAttention[\n",
            "__________________________________________________________________________________________________\n",
            "Encoder-8-MultiHeadSelfAttentio (None, 250, 768)     0           Encoder-7-FeedForward-Norm[0][0] \n",
            "                                                                 Encoder-8-MultiHeadSelfAttention-\n",
            "__________________________________________________________________________________________________\n",
            "Encoder-8-MultiHeadSelfAttentio (None, 250, 768)     1536        Encoder-8-MultiHeadSelfAttention-\n",
            "__________________________________________________________________________________________________\n",
            "Encoder-8-FeedForward (FeedForw (None, 250, 768)     4722432     Encoder-8-MultiHeadSelfAttention-\n",
            "__________________________________________________________________________________________________\n",
            "Encoder-8-FeedForward-Dropout ( (None, 250, 768)     0           Encoder-8-FeedForward[0][0]      \n",
            "__________________________________________________________________________________________________\n",
            "Encoder-8-FeedForward-Add (Add) (None, 250, 768)     0           Encoder-8-MultiHeadSelfAttention-\n",
            "                                                                 Encoder-8-FeedForward-Dropout[0][\n",
            "__________________________________________________________________________________________________\n",
            "Encoder-8-FeedForward-Norm (Lay (None, 250, 768)     1536        Encoder-8-FeedForward-Add[0][0]  \n",
            "__________________________________________________________________________________________________\n",
            "Encoder-9-MultiHeadSelfAttentio (None, 250, 768)     2362368     Encoder-8-FeedForward-Norm[0][0] \n",
            "__________________________________________________________________________________________________\n",
            "Encoder-9-MultiHeadSelfAttentio (None, 250, 768)     0           Encoder-9-MultiHeadSelfAttention[\n",
            "__________________________________________________________________________________________________\n",
            "Encoder-9-MultiHeadSelfAttentio (None, 250, 768)     0           Encoder-8-FeedForward-Norm[0][0] \n",
            "                                                                 Encoder-9-MultiHeadSelfAttention-\n",
            "__________________________________________________________________________________________________\n",
            "Encoder-9-MultiHeadSelfAttentio (None, 250, 768)     1536        Encoder-9-MultiHeadSelfAttention-\n",
            "__________________________________________________________________________________________________\n",
            "Encoder-9-FeedForward (FeedForw (None, 250, 768)     4722432     Encoder-9-MultiHeadSelfAttention-\n",
            "__________________________________________________________________________________________________\n",
            "Encoder-9-FeedForward-Dropout ( (None, 250, 768)     0           Encoder-9-FeedForward[0][0]      \n",
            "__________________________________________________________________________________________________\n",
            "Encoder-9-FeedForward-Add (Add) (None, 250, 768)     0           Encoder-9-MultiHeadSelfAttention-\n",
            "                                                                 Encoder-9-FeedForward-Dropout[0][\n",
            "__________________________________________________________________________________________________\n",
            "Encoder-9-FeedForward-Norm (Lay (None, 250, 768)     1536        Encoder-9-FeedForward-Add[0][0]  \n",
            "__________________________________________________________________________________________________\n",
            "Encoder-10-MultiHeadSelfAttenti (None, 250, 768)     2362368     Encoder-9-FeedForward-Norm[0][0] \n",
            "__________________________________________________________________________________________________\n",
            "Encoder-10-MultiHeadSelfAttenti (None, 250, 768)     0           Encoder-10-MultiHeadSelfAttention\n",
            "__________________________________________________________________________________________________\n",
            "Encoder-10-MultiHeadSelfAttenti (None, 250, 768)     0           Encoder-9-FeedForward-Norm[0][0] \n",
            "                                                                 Encoder-10-MultiHeadSelfAttention\n",
            "__________________________________________________________________________________________________\n",
            "Encoder-10-MultiHeadSelfAttenti (None, 250, 768)     1536        Encoder-10-MultiHeadSelfAttention\n",
            "__________________________________________________________________________________________________\n",
            "Encoder-10-FeedForward (FeedFor (None, 250, 768)     4722432     Encoder-10-MultiHeadSelfAttention\n",
            "__________________________________________________________________________________________________\n",
            "Encoder-10-FeedForward-Dropout  (None, 250, 768)     0           Encoder-10-FeedForward[0][0]     \n",
            "__________________________________________________________________________________________________\n",
            "Encoder-10-FeedForward-Add (Add (None, 250, 768)     0           Encoder-10-MultiHeadSelfAttention\n",
            "                                                                 Encoder-10-FeedForward-Dropout[0]\n",
            "__________________________________________________________________________________________________\n",
            "Encoder-10-FeedForward-Norm (La (None, 250, 768)     1536        Encoder-10-FeedForward-Add[0][0] \n",
            "__________________________________________________________________________________________________\n",
            "Encoder-11-MultiHeadSelfAttenti (None, 250, 768)     2362368     Encoder-10-FeedForward-Norm[0][0]\n",
            "__________________________________________________________________________________________________\n",
            "Encoder-11-MultiHeadSelfAttenti (None, 250, 768)     0           Encoder-11-MultiHeadSelfAttention\n",
            "__________________________________________________________________________________________________\n",
            "Encoder-11-MultiHeadSelfAttenti (None, 250, 768)     0           Encoder-10-FeedForward-Norm[0][0]\n",
            "                                                                 Encoder-11-MultiHeadSelfAttention\n",
            "__________________________________________________________________________________________________\n",
            "Encoder-11-MultiHeadSelfAttenti (None, 250, 768)     1536        Encoder-11-MultiHeadSelfAttention\n",
            "__________________________________________________________________________________________________\n",
            "Encoder-11-FeedForward (FeedFor (None, 250, 768)     4722432     Encoder-11-MultiHeadSelfAttention\n",
            "__________________________________________________________________________________________________\n",
            "Encoder-11-FeedForward-Dropout  (None, 250, 768)     0           Encoder-11-FeedForward[0][0]     \n",
            "__________________________________________________________________________________________________\n",
            "Encoder-11-FeedForward-Add (Add (None, 250, 768)     0           Encoder-11-MultiHeadSelfAttention\n",
            "                                                                 Encoder-11-FeedForward-Dropout[0]\n",
            "__________________________________________________________________________________________________\n",
            "Encoder-11-FeedForward-Norm (La (None, 250, 768)     1536        Encoder-11-FeedForward-Add[0][0] \n",
            "__________________________________________________________________________________________________\n",
            "Encoder-12-MultiHeadSelfAttenti (None, 250, 768)     2362368     Encoder-11-FeedForward-Norm[0][0]\n",
            "__________________________________________________________________________________________________\n",
            "Encoder-12-MultiHeadSelfAttenti (None, 250, 768)     0           Encoder-12-MultiHeadSelfAttention\n",
            "__________________________________________________________________________________________________\n",
            "Encoder-12-MultiHeadSelfAttenti (None, 250, 768)     0           Encoder-11-FeedForward-Norm[0][0]\n",
            "                                                                 Encoder-12-MultiHeadSelfAttention\n",
            "__________________________________________________________________________________________________\n",
            "Encoder-12-MultiHeadSelfAttenti (None, 250, 768)     1536        Encoder-12-MultiHeadSelfAttention\n",
            "__________________________________________________________________________________________________\n",
            "Encoder-12-FeedForward (FeedFor (None, 250, 768)     4722432     Encoder-12-MultiHeadSelfAttention\n",
            "__________________________________________________________________________________________________\n",
            "Encoder-12-FeedForward-Dropout  (None, 250, 768)     0           Encoder-12-FeedForward[0][0]     \n",
            "__________________________________________________________________________________________________\n",
            "Encoder-12-FeedForward-Add (Add (None, 250, 768)     0           Encoder-12-MultiHeadSelfAttention\n",
            "                                                                 Encoder-12-FeedForward-Dropout[0]\n",
            "__________________________________________________________________________________________________\n",
            "Encoder-12-FeedForward-Norm (La (None, 250, 768)     1536        Encoder-12-FeedForward-Add[0][0] \n",
            "==================================================================================================\n",
            "Total params: 107,518,464\n",
            "Trainable params: 107,518,464\n",
            "Non-trainable params: 0\n",
            "__________________________________________________________________________________________________\n"
          ],
          "name": "stdout"
        }
      ]
    },
    {
      "cell_type": "markdown",
      "metadata": {
        "id": "JCq9YAXuELbT"
      },
      "source": [
        "This is a regular Keras model. In Keras, models behave very much like layers, so we're able to wrap this in our own model."
      ]
    },
    {
      "cell_type": "markdown",
      "metadata": {
        "id": "mcEpQlYnELbT"
      },
      "source": [
        "## Build classification model\n",
        "\n",
        "We'll make a *very* simple model for text classification: just attach a dense layer to the output for the special `[CLS]` token, and connect the model inputs to the BERT model inputs.\n",
        "\n",
        "Recall that in the BERT input representation, each sequence starts with the special `[CLS]` token and the corresponding output is used in BERT pretraining for the next sentence prediction task. We'll use the `[CLS]` output similarly for our classification task.\n",
        "\n",
        "<img src=\"https://raw.githubusercontent.com/TurkuNLP/Deep_Learning_in_LangTech_course/master/bert-representation.png\" style=\"width: 80%\">\n",
        "\n",
        "(Figure from [Devlin et al.](https://arxiv.org/pdf/1810.04805.pdf))\n",
        "\n",
        "First, let's find the output"
      ]
    },
    {
      "cell_type": "code",
      "metadata": {
        "id": "fBMD6U3mELbU",
        "outputId": "1d735968-93ea-4f75-9877-51c9d1d4506c"
      },
      "source": [
        "print(pretrained_model.outputs)"
      ],
      "execution_count": null,
      "outputs": [
        {
          "output_type": "stream",
          "text": [
            "[<tf.Tensor 'Encoder-12-FeedForward-Norm/add_1:0' shape=(?, 250, 768) dtype=float32>]\n"
          ],
          "name": "stdout"
        }
      ]
    },
    {
      "cell_type": "markdown",
      "metadata": {
        "id": "iQ4V6Dd5ELbU"
      },
      "source": [
        "Those dimensions are (minibatch-size, sequence-length, hidden-dim).\n",
        "\n",
        "We'll just need the first sequence position across all elements in the initial (minibatch) dimension:"
      ]
    },
    {
      "cell_type": "code",
      "metadata": {
        "id": "ZEa5TRYJELbV",
        "outputId": "6ef884b0-b6e2-4399-95cf-d6760b8e598d"
      },
      "source": [
        "# model.outputs is a list, here with a single item. Here\n",
        "# pretrained_model.outputs[0] just grabs that item (the output tensor).\n",
        "# Indxing that tensor with [:,0] gives the first position in the sequence\n",
        "# for all elements in the batch (the `:`).\n",
        "bert_out = pretrained_model.outputs[0][:,0]\n",
        "\n",
        "print(bert_out)"
      ],
      "execution_count": null,
      "outputs": [
        {
          "output_type": "stream",
          "text": [
            "Tensor(\"strided_slice:0\", shape=(?, 768), dtype=float32)\n"
          ],
          "name": "stdout"
        }
      ]
    },
    {
      "cell_type": "markdown",
      "metadata": {
        "id": "sQ7rDu2HELbV"
      },
      "source": [
        "Then we can simply create our model. This is just basic Keras, where the pretrained BERT model is behaving essentially as a layer of our \"wrapping\" model."
      ]
    },
    {
      "cell_type": "code",
      "metadata": {
        "id": "CY7qVYIUELbV"
      },
      "source": [
        "from tensorflow.keras.models import Model\n",
        "from tensorflow.keras.layers import Dense\n",
        "\n",
        "\n",
        "out = Dense(num_labels, activation='softmax')(bert_out)\n",
        "model = Model(\n",
        "    inputs=pretrained_model.inputs,\n",
        "    outputs=[out]\n",
        ")"
      ],
      "execution_count": null,
      "outputs": []
    },
    {
      "cell_type": "markdown",
      "metadata": {
        "id": "DUSwRfIoELbW"
      },
      "source": [
        "## Create optimizer\n",
        "\n",
        "BERT is pretrained with an Adam optimizer with warmup and regularization using weight decay. We won't go into detail on these optimizer settings, but will instead largely copy parameters used in the original BERT work.\n",
        "\n",
        "(If you're interested in tuning the training process, trying different values of `LEARNING_RATE` is a good place to start!)"
      ]
    },
    {
      "cell_type": "code",
      "metadata": {
        "id": "8bIgesAUELbW"
      },
      "source": [
        "from keras_bert import calc_train_steps, AdamWarmup\n",
        "\n",
        "\n",
        "# Calculate the number of steps for warmup\n",
        "total_steps, warmup_steps = calc_train_steps(\n",
        "    num_example=len(texts),\n",
        "    batch_size=BATCH_SIZE,\n",
        "    epochs=EPOCHS,\n",
        "    warmup_proportion=0.1,\n",
        ")\n",
        "\n",
        "optimizer = AdamWarmup(\n",
        "    total_steps,\n",
        "    warmup_steps,\n",
        "    lr=LEARNING_RATE,\n",
        "    epsilon=1e-6,\n",
        "    weight_decay=0.01,\n",
        "    weight_decay_pattern=['embeddings', 'kernel', 'W1', 'W2', 'Wk', 'Wq', 'Wv', 'Wo']\n",
        ")"
      ],
      "execution_count": null,
      "outputs": []
    },
    {
      "cell_type": "markdown",
      "metadata": {
        "id": "AP_wA5jYELbX"
      },
      "source": [
        "## Train model\n",
        "\n",
        "The model is compiled and trained normally. As usual, we'll use `sparse_categorical_crossentropy` loss."
      ]
    },
    {
      "cell_type": "code",
      "metadata": {
        "id": "seJAKbDPELbX"
      },
      "source": [
        "model.compile(\n",
        "    optimizer=optimizer,\n",
        "    loss='sparse_categorical_crossentropy',\n",
        "    metrics=['sparse_categorical_accuracy']\n",
        ")"
      ],
      "execution_count": null,
      "outputs": []
    },
    {
      "cell_type": "markdown",
      "metadata": {
        "id": "Jp9-bpQeELbX"
      },
      "source": [
        "Training, as usual. (Note: this will take a fair bit of time unless you're running with GPU acceleration.)"
      ]
    },
    {
      "cell_type": "code",
      "metadata": {
        "id": "aV_4_xIoELbX",
        "outputId": "9021fe14-8be0-4451-de65-4c527181413c"
      },
      "source": [
        "history = model.fit(\n",
        "    X,\n",
        "    Y,\n",
        "    epochs=EPOCHS,\n",
        "    batch_size=BATCH_SIZE,\n",
        "    validation_split=0.1\n",
        ")"
      ],
      "execution_count": null,
      "outputs": [
        {
          "output_type": "stream",
          "text": [
            "WARNING:tensorflow:From /Users/smp/Library/Python/3.7/lib/python/site-packages/tensorflow_core/python/ops/math_grad.py:1424: where (from tensorflow.python.ops.array_ops) is deprecated and will be removed in a future version.\n",
            "Instructions for updating:\n",
            "Use tf.where in 2.0, which has the same broadcast rule as np.where\n",
            "Train on 900 samples, validate on 100 samples\n",
            "Epoch 1/3\n",
            "900/900 [==============================] - 2404s 3s/sample - loss: 0.5205 - sparse_categorical_accuracy: 0.7233 - val_loss: 0.2022 - val_sparse_categorical_accuracy: 0.8900\n",
            "Epoch 2/3\n",
            "900/900 [==============================] - 2462s 3s/sample - loss: 0.2061 - sparse_categorical_accuracy: 0.9222 - val_loss: 0.2250 - val_sparse_categorical_accuracy: 0.9100\n",
            "Epoch 3/3\n",
            "900/900 [==============================] - 2231s 2s/sample - loss: 0.0533 - sparse_categorical_accuracy: 0.9867 - val_loss: 0.1078 - val_sparse_categorical_accuracy: 0.9500\n"
          ],
          "name": "stdout"
        }
      ]
    },
    {
      "cell_type": "markdown",
      "metadata": {
        "id": "1syXJUIbELbY"
      },
      "source": [
        "Let's plot that training history:"
      ]
    },
    {
      "cell_type": "code",
      "metadata": {
        "id": "Q8VWMUa5ELbY",
        "outputId": "827bf632-c716-40b0-f4bc-21f88fe7f315"
      },
      "source": [
        "%matplotlib inline\n",
        "import matplotlib.pyplot as plt\n",
        "\n",
        "\n",
        "def plot_history(history):\n",
        "    plt.plot(history.history['sparse_categorical_accuracy'],label=\"Training set accuracy\")\n",
        "    plt.plot(history.history['val_sparse_categorical_accuracy'],label=\"Validation set accuracy\")\n",
        "    plt.legend()\n",
        "    plt.show()\n",
        "\n",
        "\n",
        "plot_history(history)"
      ],
      "execution_count": null,
      "outputs": [
        {
          "output_type": "display_data",
          "data": {
            "image/png": "[encoded data removed]",
            "text/plain": [
              "<Figure size 432x288 with 1 Axes>"
            ]
          },
          "metadata": {
            "tags": [],
            "needs_background": "light"
          }
        }
      ]
    },
    {
      "cell_type": "markdown",
      "metadata": {
        "id": "k6DkbNfXELbY"
      },
      "source": [
        "This is definitely starting to overfit by the third epoch, but the best dev set result is pretty impressive for such a small subset of the training data.\n",
        "\n",
        "(Caveat: by downsampling all of the data, we also ended up with a small dev set, so these results may have substantial variance.)"
      ]
    },
    {
      "cell_type": "markdown",
      "metadata": {
        "id": "jwln4x2PELbZ"
      },
      "source": [
        "## Predict with the trained model\n",
        "\n",
        "Let's run a few simple cases through the trained model to illustrate its use."
      ]
    },
    {
      "cell_type": "code",
      "metadata": {
        "id": "adJhCCYcELbZ"
      },
      "source": [
        "def predict_one(text):\n",
        "    # This function takes a string, vectorizes it with the tokenizer,\n",
        "    # and returns the model prediction. The vectorization follows\n",
        "    # the pattern we saw above for training data preparation:\n",
        "    tid, sid = tokenizer.encode(text, max_len=INPUT_LENGTH)\n",
        "    test_token_indices = [tid]\n",
        "    test_segment_ids = [sid]\n",
        "    test_X = [np.array(test_token_indices), np.array(test_segment_ids)]\n",
        "    # Run model.predict for this single case \n",
        "    predictions = model.predict(test_X)\n",
        "    # model.predict always returns a sequence. As we there's only a single input,\n",
        "    # we'll just return the value of the first (and only) element.\n",
        "    return predictions[0]\n",
        "\n",
        "\n",
        "# Get the index of the positive label (\"pos\"). Note that as LabelEncoder works\n",
        "# on lists, we need to wrap the label in a list when calling it, and take the\n",
        "# first (and only) element from the returned sequence.\n",
        "pos_index = label_encoder.transform(['pos'])[0]\n",
        "\n",
        "\n",
        "# Test the model with a few strings of our own.\n",
        "test_strings = [\n",
        "  'This movie is amazing!',\n",
        "  'This movie is amazingly bad!',\n",
        "  'The plot is boring, but the action is exciting.',\n",
        "  'The plot is exciting, but the action is boring.',\n",
        "  'I am not sure what to think about this movie.',\n",
        "]\n",
        "\n",
        "\n",
        "for s in test_strings:\n",
        "    pred = predict_one(s)\n",
        "    # The model returns the probability of both labels (pos/neg) where the\n",
        "    # neg = 1-pos (softmax). Just print out the positive label probability.\n",
        "    print('Positive probability {:.1%}\\t{}'.format(pred[pos_index], s))"
      ],
      "execution_count": null,
      "outputs": []
    }
  ]
}