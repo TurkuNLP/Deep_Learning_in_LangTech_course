{
  "nbformat": 4,
  "nbformat_minor": 0,
  "metadata": {
    "colab": {
      "provenance": [],
      "gpuType": "T4",
      "authorship_tag": "ABX9TyMIAiup9rWF4w8pE51mXj01",
      "include_colab_link": true
    },
    "kernelspec": {
      "name": "python3",
      "display_name": "Python 3"
    },
    "language_info": {
      "name": "python"
    },
    "accelerator": "GPU"
  },
  "cells": [
    {
      "cell_type": "markdown",
      "metadata": {
        "id": "view-in-github",
        "colab_type": "text"
      },
      "source": [
        "<a href=\"https://colab.research.google.com/github/TurkuNLP/Deep_Learning_in_LangTech_course/blob/master/embeddings_example.ipynb\" target=\"_parent\"><img src=\"https://colab.research.google.com/assets/colab-badge.svg\" alt=\"Open In Colab\"/></a>"
      ]
    },
    {
      "cell_type": "markdown",
      "source": [
        "<h1>Load and embed some textual data</h1>\n",
        "\n",
        "\n",
        "\n",
        "*   Load data as sequence of texts\n",
        "*   Run them through some popular Embedding model\n",
        "*   Inspect\n",
        "\n"
      ],
      "metadata": {
        "id": "Tu8YXHmZ38j_"
      }
    },
    {
      "cell_type": "code",
      "execution_count": null,
      "metadata": {
        "colab": {
          "base_uri": "https://localhost:8080/"
        },
        "id": "WvoGmBsE371q",
        "outputId": "f6c4ddad-531f-457e-cfcc-636dbc1f5ea4"
      },
      "outputs": [
        {
          "output_type": "stream",
          "name": "stdout",
          "text": [
            "--2025-10-21 19:53:09--  http://dl.turkunlp.org/TKO_8964_2023/news-en-2021.jsonl\n",
            "Resolving dl.turkunlp.org (dl.turkunlp.org)... 195.148.30.23\n",
            "Connecting to dl.turkunlp.org (dl.turkunlp.org)|195.148.30.23|:80... connected.\n",
            "HTTP request sent, awaiting response... 200 OK\n",
            "Length: 3385882 (3.2M) [application/octet-stream]\n",
            "Saving to: ‘news-en-2021.jsonl’\n",
            "\n",
            "news-en-2021.jsonl  100%[===================>]   3.23M  2.62MB/s    in 1.2s    \n",
            "\n",
            "2025-10-21 19:53:11 (2.62 MB/s) - ‘news-en-2021.jsonl’ saved [3385882/3385882]\n",
            "\n"
          ]
        }
      ],
      "source": [
        "# News data from the first demo\n",
        "!wget http://dl.turkunlp.org/TKO_8964_2023/news-en-2021.jsonl"
      ]
    },
    {
      "cell_type": "code",
      "source": [
        "import json\n",
        "all_news=[]\n",
        "with open(\"news-en-2021.jsonl\") as f:\n",
        "    for line in f:\n",
        "        one_news = json.loads(line)\n",
        "        all_news.append(one_news)\n",
        "\n"
      ],
      "metadata": {
        "id": "Zi1AM8nd4bRr"
      },
      "execution_count": null,
      "outputs": []
    },
    {
      "cell_type": "code",
      "source": [
        "print(list(all_news[0].keys()))"
      ],
      "metadata": {
        "colab": {
          "base_uri": "https://localhost:8080/"
        },
        "id": "kD0w8Z6U43Ok",
        "outputId": "c013afd1-f32b-47ec-968c-b66cae3e0f68"
      },
      "execution_count": null,
      "outputs": [
        {
          "output_type": "stream",
          "name": "stdout",
          "text": [
            "['summary', 'tags', 'text', 'timestamp', 'title', 'url']\n"
          ]
        }
      ]
    },
    {
      "cell_type": "code",
      "source": [
        "summaries=[n[\"summary\"] for n in all_news]\n",
        "print(f\"We have in total {len(summaries)} summaries\")\n",
        "print(summaries[:5])"
      ],
      "metadata": {
        "colab": {
          "base_uri": "https://localhost:8080/"
        },
        "id": "XSwiyGVO48Di",
        "outputId": "8c641c24-0426-42d6-db71-82d8f7e9241f"
      },
      "execution_count": null,
      "outputs": [
        {
          "output_type": "stream",
          "name": "stdout",
          "text": [
            "We have in total 1059 summaries\n",
            "['The decisions follow a meeting of government ministers at the House of the Estates on Thursday afternoon.', 'The median rent for a studio apartment in central Helsinki was 809 euros per month, while they cost around 583 euros in downtown Tampere and 515 euros in the centre of Oulu.', \"Emma Terho was a member of Finland's bronze-winning ice hockey teams in 1998 and 2010, and has since held several high profile roles within the IOC.\", 'The Regional State Administrative Agency of Southern Finland said it has requested expert analysis on the pandemic situation and will decide on new regulations next week.', 'While some hospital districts have moved healthcare staff up the vaccination queue, a number of workers have not yet had the chance to receive the first dose.']\n"
          ]
        }
      ]
    },
    {
      "cell_type": "markdown",
      "source": [],
      "metadata": {
        "id": "klDeEFAf5gRq"
      }
    },
    {
      "cell_type": "code",
      "source": [
        "from sentence_transformers import SentenceTransformer\n",
        "model = SentenceTransformer(\"intfloat/e5-small-v2\")#all-MiniLM-L6-v2\")\n"
      ],
      "metadata": {
        "id": "irkT_am15xXS"
      },
      "execution_count": null,
      "outputs": []
    },
    {
      "cell_type": "code",
      "source": [
        "%time\n",
        "embeddings=model.encode(summaries)"
      ],
      "metadata": {
        "colab": {
          "base_uri": "https://localhost:8080/"
        },
        "id": "f0sXz1UP59E0",
        "outputId": "b22977f7-03a4-4e03-aaa7-b7fc9ccf0469"
      },
      "execution_count": null,
      "outputs": [
        {
          "output_type": "stream",
          "name": "stdout",
          "text": [
            "CPU times: user 3 µs, sys: 0 ns, total: 3 µs\n",
            "Wall time: 5.48 µs\n"
          ]
        }
      ]
    },
    {
      "cell_type": "code",
      "source": [
        "print(embeddings.__class__)\n",
        "print(embeddings.shape)"
      ],
      "metadata": {
        "colab": {
          "base_uri": "https://localhost:8080/"
        },
        "id": "r15tAGaR6MUB",
        "outputId": "9e8c8d3c-655a-4f8d-e2d2-8f2a9b8f33f8"
      },
      "execution_count": null,
      "outputs": [
        {
          "output_type": "stream",
          "name": "stdout",
          "text": [
            "<class 'numpy.ndarray'>\n",
            "(1059, 384)\n"
          ]
        }
      ]
    },
    {
      "cell_type": "code",
      "source": [
        "embeddings[:3,]"
      ],
      "metadata": {
        "colab": {
          "base_uri": "https://localhost:8080/"
        },
        "id": "Vu4t_bB76QI2",
        "outputId": "f4294c76-8d47-41aa-9f7a-ce78e810cea4"
      },
      "execution_count": null,
      "outputs": [
        {
          "output_type": "execute_result",
          "data": {
            "text/plain": [
              "array([[-0.07388608,  0.09047337,  0.02574946, ..., -0.0038086 ,\n",
              "        -0.03786821,  0.00333839],\n",
              "       [-0.05818601,  0.01598921,  0.02870913, ...,  0.00504943,\n",
              "        -0.06872112,  0.00367099],\n",
              "       [-0.08355303,  0.04069423,  0.03640767, ...,  0.01249811,\n",
              "        -0.00039731,  0.03977854]], dtype=float32)"
            ]
          },
          "metadata": {},
          "execution_count": 8
        }
      ]
    },
    {
      "cell_type": "markdown",
      "source": [
        "...ha ha now that was quite easy, wasn't it... Things are quite easy as long as your data is small and fits into memory."
      ],
      "metadata": {
        "id": "gVhisHKp6j3n"
      }
    }
  ]
}