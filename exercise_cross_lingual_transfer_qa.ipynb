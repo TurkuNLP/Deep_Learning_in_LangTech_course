{
  "nbformat": 4,
  "nbformat_minor": 0,
  "metadata": {
    "colab": {
      "provenance": [],
      "gpuType": "T4",
      "authorship_tag": "ABX9TyPi9aZiHeDd/OrZsqnGzA0s",
      "include_colab_link": true
    },
    "kernelspec": {
      "name": "python3",
      "display_name": "Python 3"
    },
    "language_info": {
      "name": "python"
    },
    "accelerator": "GPU"
  },
  "cells": [
    {
      "cell_type": "markdown",
      "metadata": {
        "id": "view-in-github",
        "colab_type": "text"
      },
      "source": [
        "<a href=\"https://colab.research.google.com/github/TurkuNLP/Deep_Learning_in_LangTech_course/blob/master/exercise_cross_lingual_transfer_qa.ipynb\" target=\"_parent\"><img src=\"https://colab.research.google.com/assets/colab-badge.svg\" alt=\"Open In Colab\"/></a>"
      ]
    },
    {
      "cell_type": "markdown",
      "source": [
        "## Question Answering with zero-shot cross-lingual transfer"
      ],
      "metadata": {
        "id": "4aAlSgF5408m"
      }
    },
    {
      "cell_type": "code",
      "execution_count": null,
      "metadata": {
        "id": "dKNNa61xEWl4"
      },
      "outputs": [],
      "source": [
        "!pip install -q transformers sentencepiece datasets evaluate"
      ]
    },
    {
      "cell_type": "markdown",
      "source": [
        "Without sentencepiece installed, the error message is:\n",
        "\n",
        "\n",
        "```\n",
        "ValueError: Couldn't instantiate the backend tokenizer from one of:\n",
        "  (1) a `tokenizers` library serialization file,\n",
        "  (2) a slow tokenizer instance to convert or\n",
        "  (3) an equivalent slow tokenizer class to instantiate and convert.\n",
        "\n",
        "You need to have sentencepiece installed to convert a slow tokenizer to a fast one.\n",
        "\n",
        "```\n",
        "[SentencePiece](https://github.com/google/sentencepiece) is an another library for subword tokenization, ie. for splitting words into subwords.\n"
      ],
      "metadata": {
        "id": "BPMGwQoK2gHT"
      }
    },
    {
      "cell_type": "markdown",
      "source": [
        "## Create a pipeline for QA"
      ],
      "metadata": {
        "id": "D-COwmakmzTF"
      }
    },
    {
      "cell_type": "code",
      "source": [
        "from transformers import pipeline\n",
        "\n",
        "\n",
        "# a) Get predictions\n",
        "pipe = pipeline('question-answering', model=\"deepset/xlm-roberta-large-squad2\")\n",
        "example_input = {\n",
        "    'question': 'Why is model conversion important?',\n",
        "    'context': 'The option to convert models between FARM and transformers gives freedom to the user and let people easily switch between frameworks.'\n",
        "}\n",
        "res = pipe(example_input, handle_impossible_answer=True)\n",
        "print(res)"
      ],
      "metadata": {
        "colab": {
          "base_uri": "https://localhost:8080/"
        },
        "id": "7Xy4W30vGzUT",
        "outputId": "91254f71-8997-4e89-a0ce-f8bef2413b50"
      },
      "execution_count": null,
      "outputs": [
        {
          "output_type": "stream",
          "name": "stderr",
          "text": [
            "Some weights of the model checkpoint at deepset/xlm-roberta-large-squad2 were not used when initializing XLMRobertaForQuestionAnswering: ['roberta.pooler.dense.bias', 'roberta.pooler.dense.weight']\n",
            "- This IS expected if you are initializing XLMRobertaForQuestionAnswering from the checkpoint of a model trained on another task or with another architecture (e.g. initializing a BertForSequenceClassification model from a BertForPreTraining model).\n",
            "- This IS NOT expected if you are initializing XLMRobertaForQuestionAnswering from the checkpoint of a model that you expect to be exactly identical (initializing a BertForSequenceClassification model from a BertForSequenceClassification model).\n"
          ]
        },
        {
          "output_type": "stream",
          "name": "stdout",
          "text": [
            "{'score': 0.3094019293785095, 'start': 58, 'end': 133, 'answer': ' gives freedom to the user and let people easily switch between frameworks.'}\n"
          ]
        }
      ]
    },
    {
      "cell_type": "markdown",
      "source": [
        "## Evaluate on one Finnish example\n",
        "\n",
        "(English translation also provided)"
      ],
      "metadata": {
        "id": "BeHkgYYwm_Le"
      }
    },
    {
      "cell_type": "code",
      "source": [
        "finnish_input = {\n",
        "    \"question\": \"Minkä takia linnut pysyvät ilmassa?\",\n",
        "    \"context\": \"\"\"Linnut (Aves) ovat tasalämpöisiä, munivia ja höyhenpeitteisiä selkärankaisia,\n",
        "    joiden siivet antavat useimmille niistä lentokyvyn. Lintuja tunnetaan yli 10 900 lajia.\n",
        "    Linnut kehittyivät jurakaudella dinosauruksista, ja ne luokitellaankin teropodien alaryhmäksi.\n",
        "    Lintulajit muistuttavat paljon toisiaan, ja kaikkien lajien perusrakenne on sama. Linnut ovatkin\n",
        "    muista eläinryhmistä suhteellisen selvästi erottuva ryhmä. Linnuilla on nokka, mutta ei hampaita.\n",
        "    Eturaajat ovat kehittyneet siiviksi, ja luut ovat onttoja ja kevyitä.\"\"\"\n",
        "}\n",
        "english_input = {\n",
        "    \"question\": \"Why do birds stay up in the air?\",\n",
        "    \"context\": \"\"\"Birds (Aves) are even-tempered, egg-laying and feathered vertebrates,\n",
        "    whose wings give most of them the ability to fly. There are more than 10 900 known species of birds.\n",
        "    Birds evolved from dinosaurs in the Jurassic period and are classified as a sub-group of teropods.\n",
        "    Bird species are very similar to each other, and the basic structure of all species is the same.\n",
        "    Birds are therefore a relatively distinct group from other animal groups. Birds have beaks but no teeth.\n",
        "    The forelimbs have evolved into wings and the bones are hollow and light.\"\"\"\n",
        "}\n",
        "print(pipe(finnish_input, handle_impossible_answer=True))\n",
        "print(pipe(english_input, handle_impossible_answer=True))\n",
        "print(pipe(english_input))\n",
        "\n"
      ],
      "metadata": {
        "colab": {
          "base_uri": "https://localhost:8080/"
        },
        "id": "ivbGTqKMFFcu",
        "outputId": "0dea4e22-c356-4d45-a79a-a1927c42be16"
      },
      "execution_count": null,
      "outputs": [
        {
          "output_type": "stream",
          "name": "stdout",
          "text": [
            "{'score': 0.5494571328163147, 'start': 88, 'end': 95, 'answer': ' siivet'}\n",
            "{'score': 0.3622419536113739, 'start': 0, 'end': 0, 'answer': ''}\n",
            "{'score': 0.07016430050134659, 'start': 79, 'end': 85, 'answer': ' wings'}\n"
          ]
        }
      ]
    },
    {
      "cell_type": "markdown",
      "source": [
        "## Evaluate using Finnish SQuAD\n",
        "\n",
        "* DeepL -based machine translation of the English SQuAD v2.0"
      ],
      "metadata": {
        "id": "T_Z8OUqcoJS0"
      }
    },
    {
      "cell_type": "code",
      "source": [
        "import datasets\n",
        "squad_fi = datasets.load_dataset(\"TurkuNLP/squad_v2_fi\", split=\"validation\")"
      ],
      "metadata": {
        "id": "kFx7IgUmJ1WE"
      },
      "execution_count": null,
      "outputs": []
    },
    {
      "cell_type": "code",
      "source": [
        "print(squad_fi)\n",
        "sample = [{\"question\": e[\"question\"], \"context\": e[\"context\"]} for e in squad_fi][:1000]\n",
        "print(len(sample))\n",
        "predictions = pipe(sample, handle_impossible_answer=True)"
      ],
      "metadata": {
        "colab": {
          "base_uri": "https://localhost:8080/"
        },
        "id": "wMED0K40Le_R",
        "outputId": "89d2d951-74fb-4095-9c9b-a597b54de8f9"
      },
      "execution_count": null,
      "outputs": [
        {
          "output_type": "stream",
          "name": "stdout",
          "text": [
            "Dataset({\n",
            "    features: ['id', 'title', 'context', 'question', 'answers'],\n",
            "    num_rows: 11873\n",
            "})\n",
            "1000\n"
          ]
        }
      ]
    },
    {
      "cell_type": "code",
      "source": [
        "print(predictions[0])\n",
        "for i in range(10):\n",
        "  print(\"Q:\", sample[i][\"question\"])\n",
        "  print(\"Pred A:\", predictions[i][\"answer\"])\n",
        "  print(\"Corr A:\", squad_fi[i][\"answers\"][\"text\"])\n",
        "  print()"
      ],
      "metadata": {
        "colab": {
          "base_uri": "https://localhost:8080/"
        },
        "id": "Bw8aCUYQMU6n",
        "outputId": "4587756d-a3f7-47f4-f226-c9aac9ae40f6"
      },
      "execution_count": null,
      "outputs": [
        {
          "output_type": "stream",
          "name": "stdout",
          "text": [
            "{'score': 0.5167831182479858, 'start': 149, 'end': 160, 'answer': ' Ranskassa.'}\n",
            "Q: Missä maassa Normandia sijaitsee?\n",
            "Pred A:  Ranskassa.\n",
            "Corr A: ['Ranskassa', 'Ranskassa', 'Ranskassa', 'Ranskassa']\n",
            "\n",
            "Q: Milloin normannit olivat Normandiassa?\n",
            "Pred A:  10. ja 11. vuosisadalla\n",
            "Corr A: ['10. ja 11. vuosisadalla', '10. ja 11. vuosisadalla', '10. ja 11. vuosisadalla', '10. ja 11. vuosisadalla']\n",
            "\n",
            "Q: Mistä maista norjalaiset olivat peräisin?\n",
            "Pred A:  Tanskasta, Islannista ja Norjasta\n",
            "Corr A: ['Tanskasta, Islannista ja Norjasta', 'Tanskasta, Islannista ja Norjasta', 'Tanskasta, Islannista ja Norjasta', 'Tanskasta, Islannista ja Norjasta']\n",
            "\n",
            "Q: Kuka oli norjalainen johtaja?\n",
            "Pred A:  Rollon\n",
            "Corr A: ['Rollon', 'Rollon', 'Rollon', 'Rollon']\n",
            "\n",
            "Q: Millä vuosisadalla normannit saivat ensimmäisen kerran oman identiteettinsä?\n",
            "Pred A:  10.\n",
            "Corr A: ['10. vuosisadan', '10. vuosisadan alkupuoliskolla', '10', '10']\n",
            "\n",
            "Q: Kuka antoi nimensä Normandialle 1000- ja 1100-luvuilla?\n",
            "Pred A: \n",
            "Corr A: []\n",
            "\n",
            "Q: Mikä on Ranskan alue?\n",
            "Pred A:  Normandian\n",
            "Corr A: []\n",
            "\n",
            "Q: Kenelle kuningas Kaarle III vannoi uskollisuutta?\n",
            "Pred A: \n",
            "Corr A: []\n",
            "\n",
            "Q: Milloin frankkien identiteetti syntyi?\n",
            "Pred A: \n",
            "Corr A: []\n",
            "\n",
            "Q: Kuka oli herttua Hastingsin taistelussa?\n",
            "Pred A:  Vilhelm Valloittajan\n",
            "Corr A: ['Vilhelm Valloittajan johtama', 'Vilhelm Valloittajan johtama', 'Vilhelm Valloittajan johtama']\n",
            "\n"
          ]
        }
      ]
    },
    {
      "cell_type": "code",
      "source": [
        "# Use the official SQuAD metric https://huggingface.co/spaces/evaluate-metric/squad_v2\n",
        "from evaluate import load\n",
        "\n",
        "squad_metric = load(\"squad_v2\")\n",
        "\n",
        "gold = []\n",
        "preds = []\n",
        "\n",
        "# Reformat the data for evaluation metric\n",
        "for i in range(len(predictions)):\n",
        "  g = {'answers': {'answer_start': squad_fi[i][\"answers\"][\"answer_start\"], 'text': squad_fi[i][\"answers\"]['text']}, 'id':  squad_fi[i][\"id\"]}\n",
        "  p = {'prediction_text': predictions[i][\"answer\"], 'id': squad_fi[i][\"id\"], 'no_answer_probability': 0.0}\n",
        "  gold.append(g)\n",
        "  preds.append(p)\n",
        "\n",
        "results = squad_metric.compute(predictions=preds, references=gold)\n",
        "results"
      ],
      "metadata": {
        "colab": {
          "base_uri": "https://localhost:8080/"
        },
        "id": "TxDcNV2CRvbi",
        "outputId": "0a61bb1d-e2cc-48e8-fcd0-4a4b74b4db70"
      },
      "execution_count": null,
      "outputs": [
        {
          "output_type": "execute_result",
          "data": {
            "text/plain": [
              "{'exact': 65.8,\n",
              " 'f1': 71.62373064843649,\n",
              " 'total': 1000,\n",
              " 'HasAns_exact': 53.52697095435685,\n",
              " 'HasAns_f1': 65.60939968555299,\n",
              " 'HasAns_total': 482,\n",
              " 'NoAns_exact': 77.22007722007721,\n",
              " 'NoAns_f1': 77.22007722007721,\n",
              " 'NoAns_total': 518,\n",
              " 'best_exact': 65.9,\n",
              " 'best_exact_thresh': 0.0,\n",
              " 'best_f1': 71.72373064843634,\n",
              " 'best_f1_thresh': 0.0}"
            ]
          },
          "metadata": {},
          "execution_count": 26
        }
      ]
    }
  ]
}