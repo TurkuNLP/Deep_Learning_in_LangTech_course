{
  "cells": [
    {
      "cell_type": "markdown",
      "metadata": {
        "id": "view-in-github",
        "colab_type": "text"
      },
      "source": [
        "<a href=\"https://colab.research.google.com/github/TurkuNLP/Deep_Learning_in_LangTech_course/blob/master/lighteval_results.ipynb\" target=\"_parent\"><img src=\"https://colab.research.google.com/assets/colab-badge.svg\" alt=\"Open In Colab\"/></a>"
      ]
    },
    {
      "cell_type": "markdown",
      "id": "dd78ede7-f220-4ff0-9057-256729fa7497",
      "metadata": {
        "id": "dd78ede7-f220-4ff0-9057-256729fa7497"
      },
      "source": [
        "Install the `lighteval` package."
      ]
    },
    {
      "cell_type": "code",
      "execution_count": null,
      "id": "2231e13b-8048-40eb-8691-c3aa39058add",
      "metadata": {
        "id": "2231e13b-8048-40eb-8691-c3aa39058add"
      },
      "outputs": [],
      "source": [
        "!pip install --quiet lighteval more_itertools emoji"
      ]
    },
    {
      "cell_type": "markdown",
      "id": "a13fbf18-f143-4ba4-abd0-992b13642090",
      "metadata": {
        "id": "a13fbf18-f143-4ba4-abd0-992b13642090"
      },
      "source": [
        "Run evaluation using two models (`for` loop):\n",
        "\n",
        "* `gpt2` (the smallest GPT2 model, 124M parameters)\n",
        "* `allenai/OLMo-1B-hf` (1.18B parameters)\n",
        "\n",
        "For each model, run evaluation on the ARC challenge task in zero-, one- and five-shot settings, as specified by the `--task` argument.\n",
        "\n",
        "The `--output_dir` argument specifies where to store the results of the evaluation, which are saved in a custom JSON format.\n",
        "\n",
        "This was run on LUMI, and we're here using a batch size of 32 (`--override_batch_size 32`) to speed up the evaluation. It may be necessary to specify a smaller batch size on devices with less memory. The `--cache_dir` argument is likewise specific to the system and active projects and should be omitted if running on colab."
      ]
    },
    {
      "cell_type": "code",
      "execution_count": null,
      "id": "a85eac9c-5c14-4381-a4dd-fd77c280b700",
      "metadata": {
        "id": "a85eac9c-5c14-4381-a4dd-fd77c280b700"
      },
      "outputs": [],
      "source": [
        "from google.colab import drive\n",
        "drive.mount('/content/drive')\n",
        "\n",
        "!mkdir evals\n",
        "\n",
        "!for model in gpt2 allenai/OLMo-1B-hf; do \\\n",
        "    lighteval accelerate \\\n",
        "        "model_name=${model},batch_size=8" \\\n",
        "        "leaderboard|arc:challenge|0|0" \\\n",
        "        --max-samples 100 \\\n",
        "        --output_dir=\"/content/evals/\" \\\n",
        "done"
        "\n",
        "!for model in gpt2 allenai/OLMo-1B-hf; do \\\n",
        "    lighteval accelerate \\\n",
        "        "model_name=${model},batch_size=8" \\\n",
        "        "leaderboard|arc:challenge|1|0" \\\n",
        "        --max-samples 100 \\\n",
        "        --output_dir=\"/content/evals/\" \\\n",
        "done"
        "\n",
        "!for model in gpt2 allenai/OLMo-1B-hf; do \\\n",
        "    lighteval accelerate \\\n",
        "        "model_name=${model},batch_size=8" \\\n",
        "        "leaderboard|arc:challenge|5|0" \\\n",
        "        --max-samples 100 \\\n",
        "        --output_dir=\"/content/evals/\" \\\n",
        "done"
      ]
    },
    {
      "cell_type": "markdown",
      "id": "bd98a15b-1ccc-449d-bd1f-1ab89f200085",
      "metadata": {
        "id": "bd98a15b-1ccc-449d-bd1f-1ab89f200085"
      },
      "source": [
        "Search through all `.json` files in the `evals` directory using `glob` and store the accuracy (`\"acc\"`) values in a dictionary of dictionaries keyed by model name and number of shots. You can alternatively simply collect these results from the prinout that `lighteval` outputs to the command line when it is run."
      ]
    },
    {
      "cell_type": "code",
      "execution_count": null,
      "id": "a0fd87a9-3c95-46eb-b76c-56512d7e2d7a",
      "metadata": {
        "id": "a0fd87a9-3c95-46eb-b76c-56512d7e2d7a",
        "outputId": "e157691c-a7a9-425b-d5dc-f60f14777e61"
      },
      "outputs": [
        {
          "name": "stdout",
          "output_type": "stream",
          "text": [
            "allenai/OLMo-1B-hf, 0 shots: 0.28668941979522183\n",
            "allenai/OLMo-1B-hf, 1 shots: 0.3054607508532423\n",
            "allenai/OLMo-1B-hf, 5 shots: 0.3165529010238908\n",
            "gpt2, 0 shots: 0.19027303754266212\n",
            "gpt2, 1 shots: 0.1757679180887372\n",
            "gpt2, 5 shots: 0.18686006825938567\n"
          ]
        }
      ],
      "source": [
        "import glob\n",
        "import json\n",
        "\n",
        "from collections import defaultdict\n",
        "\n",
        "results_by_model = defaultdict(dict)\n",
        "\n",
        "files = glob.glob('evals/**/*.json', recursive=True)\n",
        "for fn in files:\n",
        "    with open(fn) as f:\n",
        "      data = json.load(f)\n",
        "    model = data['config_general']['model_name']\n",
        "    results_by_model[model].update(data['results'])\n",
        "\n",
        "acc_by_model_and_shots = defaultdict(dict)\n",
        "for model, results in results_by_model.items():\n",
        "    for task, result in results.items():\n",
        "        if 'arc:challenge' in task:\n",
        "            shots = int(task.split('|')[2])\n",
        "            acc_by_model_and_shots[model][shots] = result['acc']\n",
        "\n",
        "for model, acc_by_shots in acc_by_model_and_shots.items():\n",
        "    for shots in sorted(acc_by_shots.keys()):\n",
        "        print(f'{model}, {shots} shots: {acc_by_shots[shots]}')"
      ]
    },
    {
      "cell_type": "markdown",
      "id": "8b0979f0-e21a-4e94-bd88-6ef6e8d2cd30",
      "metadata": {
        "id": "8b0979f0-e21a-4e94-bd88-6ef6e8d2cd30"
      },
      "source": [
        "Plot the results using `pyplot`."
      ]
    },
    {
      "cell_type": "code",
      "execution_count": null,
      "id": "0167d480-344b-4c1a-8e75-64d6a4e3db68",
      "metadata": {
        "id": "0167d480-344b-4c1a-8e75-64d6a4e3db68",
        "outputId": "d67443ae-facd-41bd-b9f4-a65f83250eea"
      },
      "outputs": [
        {
          "data": {
            "image/png": "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",
            "text/plain": [
              "<Figure size 640x480 with 1 Axes>"
            ]
          },
          "metadata": {},
          "output_type": "display_data"
        }
      ],
      "source": [
        "import matplotlib.pyplot as plt\n",
        "\n",
        "for model, acc_by_shots in acc_by_model_and_shots.items():\n",
        "    x, y = zip(*sorted(acc_by_shots.items()))\n",
        "    plt.plot(x, y, label=model)\n",
        "\n",
        "plt.legend()\n",
        "plt.show()"
      ]
    },
    {
      "cell_type": "markdown",
      "id": "924bffbc-b9e1-42df-8efa-cceabac0d3e5",
      "metadata": {
        "id": "924bffbc-b9e1-42df-8efa-cceabac0d3e5"
      },
      "source": [
        "We find the following:\n",
        "\n",
        "**a) how do the gpt2 results relate to the random baseline and what does this imply about the model?**\n",
        "\n",
        "The small GPT2 model fails to outperform the random baseline for the data, indicating that it does not have the capability to address the challenge in a meaningful way in either zero- or few-shot settings. Given that the model scores _worse_ in a one-shot setting than zero-shot, the differences between zero- and few-shot settings likely reflect random effects rather than in-context learning.\n",
        "\n",
        "**b) what do the results for the larger model indicate about the effectiveness of few-shot prompting?**\n",
        "\n",
        "The larger model here scores above random also in zero-shot setting, and performance improves with one in-context example and improves further with five in-context examples. This indicates that with this model, few-shot prompting successfully elicits capabilities that the model has but does not exhibit in a zero-shot setting. Contrasting to the results with the small model, we can infer that the efficacy of few-shot prompting is likely to depend on the capabilities of the model.\n",
        "\n",
        "**c) how do the results for the larger model relate to the state of the art (best reported results) in the task?**\n",
        "\n",
        "Looking at the [state of the art results for the ARC Challenge](https://paperswithcode.com/sota/common-sense-reasoning-on-arc-challenge), we find that the benchmark is effectively saturated, with e.g. Claude 2 achieving 91% accuracy (5-shot) and GPT-4 achieving over 96% accuracy (25-shot). The performance of the models evaluated here is quite low by comparison."
      ]
    }
  ],
  "metadata": {
    "kernelspec": {
      "display_name": "Python 3 (ipykernel)",
      "language": "python",
      "name": "python3"
    },
    "language_info": {
      "codemirror_mode": {
        "name": "ipython",
        "version": 3
      },
      "file_extension": ".py",
      "mimetype": "text/x-python",
      "name": "python",
      "nbconvert_exporter": "python",
      "pygments_lexer": "ipython3",
      "version": "3.10.12"
    },
    "colab": {
      "provenance": [],
      "include_colab_link": true
    }
  },
  "nbformat": 4,
  "nbformat_minor": 5
}
